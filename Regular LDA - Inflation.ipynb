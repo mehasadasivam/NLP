{
 "cells": [
  {
   "cell_type": "code",
   "execution_count": 10,
   "metadata": {},
   "outputs": [],
   "source": [
    "from config import *\n",
    "\n",
    "import gensim\n",
    "\n",
    "import glob\n",
    "import os\n",
    "import re\n",
    "\n",
    "import numpy as np\n",
    "import pandas as pd\n",
    "\n",
    "import json"
   ]
  },
  {
   "cell_type": "code",
   "execution_count": 11,
   "metadata": {},
   "outputs": [],
   "source": [
    "import logging\n",
    "logging.basicConfig(format='%(asctime)s : %(levelname)s : %(message)s', level=logging.INFO)\n",
    "\n",
    "from gensim.models import ldamodel"
   ]
  },
  {
   "cell_type": "code",
   "execution_count": 12,
   "metadata": {},
   "outputs": [],
   "source": [
    "THEME = 'Inflation'\n",
    "theme = 'Inflation'"
   ]
  },
  {
   "cell_type": "code",
   "execution_count": 13,
   "metadata": {},
   "outputs": [
    {
     "name": "stderr",
     "output_type": "stream",
     "text": [
      "2021-04-26 00:26:35,433 : INFO : loading Dictionary object from /work/ms5941/NLP/Temp/Inflation/Inflation_less_restricted.dict\n",
      "2021-04-26 00:26:35,437 : INFO : Dictionary lifecycle event {'fname': '/work/ms5941/NLP/Temp/Inflation/Inflation_less_restricted.dict', 'datetime': '2021-04-26T00:26:35.437710', 'gensim': '4.0.1', 'python': '3.7.7 (default, May  7 2020, 21:25:33) \\n[GCC 7.3.0]', 'platform': 'Linux-4.19.0-16-amd64-x86_64-with-debian-10.9', 'event': 'loaded'}\n"
     ]
    }
   ],
   "source": [
    "# Load dictionary and corpus\n",
    "dictionary_all = gensim.corpora.Dictionary.load(TEMP_PATH + '/%s/%s_less_restricted.dict' % (THEME, THEME))"
   ]
  },
  {
   "cell_type": "code",
   "execution_count": 14,
   "metadata": {},
   "outputs": [],
   "source": [
    "# 1. Look for ids of related words to theme in the dictionary"
   ]
  },
  {
   "cell_type": "code",
   "execution_count": 15,
   "metadata": {},
   "outputs": [],
   "source": [
    "words = pd.read_csv(TEMP_PATH + '/%s_words.csv' % THEME.lower(), index_col=0)"
   ]
  },
  {
   "cell_type": "code",
   "execution_count": 16,
   "metadata": {},
   "outputs": [],
   "source": [
    "year_name_list = dict()\n",
    "year_id_list = dict()\n",
    "for col in words.columns:\n",
    "    reqd_words = list(words[col].values) + [THEME.lower()]\n",
    "    reqd_ids = [k for k,v in dictionary_all.items() if v in reqd_words]\n",
    "    year_name_list[col] = [dictionary_all[i] for i in reqd_ids]\n",
    "    year_id_list[col] = reqd_ids"
   ]
  },
  {
   "cell_type": "code",
   "execution_count": 17,
   "metadata": {
    "jupyter": {
     "outputs_hidden": true
    },
    "scrolled": true
   },
   "outputs": [
    {
     "data": {
      "text/plain": [
       "{'1996': ['inflation',\n",
       "  'gdp',\n",
       "  'unemployment',\n",
       "  'pressures',\n",
       "  'wage',\n",
       "  'cpi',\n",
       "  'economy'],\n",
       " '1997': ['inflation', 'unemployment', 'pressures', 'wage', 'cpi', 'economy'],\n",
       " '1998': ['inflation', 'gdp', 'unemployment', 'wage', 'cpi', 'economy'],\n",
       " '1999': ['inflation', 'gdp', 'wage', 'cpi', 'economy'],\n",
       " '2000': ['inflation', 'gdp', 'pressures', 'wage', 'cpi', 'economy'],\n",
       " '2001': ['inflation',\n",
       "  'gdp',\n",
       "  'unemployment',\n",
       "  'cpi',\n",
       "  'ecb',\n",
       "  'growth',\n",
       "  'economy'],\n",
       " '2002': ['inflation', 'gdp', 'cpi', 'ecb', 'economy'],\n",
       " '2003': ['inflation',\n",
       "  'fed',\n",
       "  'gdp',\n",
       "  'payrolls',\n",
       "  'cpi',\n",
       "  'policymakers',\n",
       "  'ecb',\n",
       "  'economy'],\n",
       " '2004': ['inflation',\n",
       "  'fed',\n",
       "  'gdp',\n",
       "  'payrolls',\n",
       "  'cpi',\n",
       "  'greenspan',\n",
       "  'bernanke'],\n",
       " '2005': ['easing', 'inflation', 'fed', 'gdp', 'payrolls', 'cpi', 'greenspan'],\n",
       " '2006': ['inflation', 'fed', 'gdp', 'payrolls', 'cpi', 'bernanke'],\n",
       " '2007': ['easing',\n",
       "  'inflation',\n",
       "  'fed',\n",
       "  'gdp',\n",
       "  'recession',\n",
       "  'cpi',\n",
       "  'policymakers',\n",
       "  'tightening'],\n",
       " '2008': ['easing', 'inflation', 'gdp', 'recession', 'cpi'],\n",
       " '2009': ['easing', 'inflation', 'gdp', 'yields', 'unemployment', 'cpi'],\n",
       " '2010': ['easing', 'inflation', 'gdp', 'yields', 'cpi'],\n",
       " '2011': ['easing', 'inflation', 'gdp', 'cpi', 'tightening', 'growth'],\n",
       " '2012': ['easing', 'inflation', 'gdp', 'unemployment', 'cpi', 'cbank'],\n",
       " '2013': ['easing',\n",
       "  'inflation',\n",
       "  'gdp',\n",
       "  'unemployment',\n",
       "  'jobless',\n",
       "  'cpi',\n",
       "  'policymakers',\n",
       "  'growth'],\n",
       " '2014': ['easing', 'inflation', 'gdp', 'unemployment', 'cpi'],\n",
       " '2015': ['easing',\n",
       "  'inflation',\n",
       "  'gdp',\n",
       "  'stimulus',\n",
       "  'unemployment',\n",
       "  'cpi',\n",
       "  'growth'],\n",
       " '2016': ['easing',\n",
       "  'inflation',\n",
       "  'gdp',\n",
       "  'unemployment',\n",
       "  'cpi',\n",
       "  'cbank',\n",
       "  'growth'],\n",
       " '2017': ['inflation',\n",
       "  'gdp',\n",
       "  'unemployment',\n",
       "  'cpi',\n",
       "  'policymakers',\n",
       "  'tightening'],\n",
       " '2018': ['inflation',\n",
       "  'gdp',\n",
       "  'hike',\n",
       "  'unemployment',\n",
       "  'cpi',\n",
       "  'hikes',\n",
       "  'rbnz',\n",
       "  'cbank',\n",
       "  'growth'],\n",
       " '2019': ['easing',\n",
       "  'inflation',\n",
       "  'gdp',\n",
       "  'unemployment',\n",
       "  'jobless',\n",
       "  'cpi',\n",
       "  'growth'],\n",
       " '2020': ['easing', 'inflation', 'gdp', 'cpi', 'rbnz']}"
      ]
     },
     "execution_count": 17,
     "metadata": {},
     "output_type": "execute_result"
    }
   ],
   "source": [
    "year_name_list"
   ]
  },
  {
   "cell_type": "code",
   "execution_count": 18,
   "metadata": {},
   "outputs": [],
   "source": [
    "years = [str(year) for year in range(START_YEAR, END_YEAR + 1)]"
   ]
  },
  {
   "cell_type": "code",
   "execution_count": 19,
   "metadata": {},
   "outputs": [
    {
     "name": "stdout",
     "output_type": "stream",
     "text": [
      "/work/ms5941/NLP/Temp/Inflation/Inflation_Articles_Tokenized_1996.json done!\n",
      "/work/ms5941/NLP/Temp/Inflation/Inflation_Articles_Tokenized_1997.json done!\n",
      "/work/ms5941/NLP/Temp/Inflation/Inflation_Articles_Tokenized_1998.json done!\n",
      "/work/ms5941/NLP/Temp/Inflation/Inflation_Articles_Tokenized_1999.json done!\n",
      "/work/ms5941/NLP/Temp/Inflation/Inflation_Articles_Tokenized_2000.json done!\n",
      "/work/ms5941/NLP/Temp/Inflation/Inflation_Articles_Tokenized_2001.json done!\n",
      "/work/ms5941/NLP/Temp/Inflation/Inflation_Articles_Tokenized_2002.json done!\n",
      "/work/ms5941/NLP/Temp/Inflation/Inflation_Articles_Tokenized_2003.json done!\n",
      "/work/ms5941/NLP/Temp/Inflation/Inflation_Articles_Tokenized_2004.json done!\n",
      "/work/ms5941/NLP/Temp/Inflation/Inflation_Articles_Tokenized_2005.json done!\n",
      "/work/ms5941/NLP/Temp/Inflation/Inflation_Articles_Tokenized_2006.json done!\n",
      "/work/ms5941/NLP/Temp/Inflation/Inflation_Articles_Tokenized_2007.json done!\n",
      "/work/ms5941/NLP/Temp/Inflation/Inflation_Articles_Tokenized_2008.json done!\n",
      "/work/ms5941/NLP/Temp/Inflation/Inflation_Articles_Tokenized_2009.json done!\n",
      "/work/ms5941/NLP/Temp/Inflation/Inflation_Articles_Tokenized_2010.json done!\n",
      "/work/ms5941/NLP/Temp/Inflation/Inflation_Articles_Tokenized_2011.json done!\n",
      "/work/ms5941/NLP/Temp/Inflation/Inflation_Articles_Tokenized_2012.json done!\n",
      "/work/ms5941/NLP/Temp/Inflation/Inflation_Articles_Tokenized_2013.json done!\n",
      "/work/ms5941/NLP/Temp/Inflation/Inflation_Articles_Tokenized_2014.json done!\n",
      "/work/ms5941/NLP/Temp/Inflation/Inflation_Articles_Tokenized_2015.json done!\n",
      "/work/ms5941/NLP/Temp/Inflation/Inflation_Articles_Tokenized_2016.json done!\n",
      "/work/ms5941/NLP/Temp/Inflation/Inflation_Articles_Tokenized_2017.json done!\n",
      "/work/ms5941/NLP/Temp/Inflation/Inflation_Articles_Tokenized_2018.json done!\n",
      "/work/ms5941/NLP/Temp/Inflation/Inflation_Articles_Tokenized_2019.json done!\n",
      "/work/ms5941/NLP/Temp/Inflation/Inflation_Articles_Tokenized_2020.json done!\n"
     ]
    }
   ],
   "source": [
    "good_words_count_per_year = dict()\n",
    "for year in years:\n",
    "    good_words_count_per_year[year] = []\n",
    "    with open(TOKENIZED_ARTICLES_PATH % (THEME, THEME, year)) as f:\n",
    "        a = json.load(f)\n",
    "        for article in a:\n",
    "            good_words_count_per_year[year].append(len([word for word in article if word in year_name_list[year]]))\n",
    "    print(TOKENIZED_ARTICLES_PATH % (THEME, THEME, year), 'done!')"
   ]
  },
  {
   "cell_type": "code",
   "execution_count": 20,
   "metadata": {},
   "outputs": [
    {
     "name": "stdout",
     "output_type": "stream",
     "text": [
      "/work/ms5941/NLP/Temp/Inflation/Inflation_Articles_Tokenized_1996.json done!\n",
      "Count for the year: 335 Vs original: 30955\n",
      "/work/ms5941/NLP/Temp/Inflation/Inflation_Articles_Tokenized_1997.json done!\n",
      "Count for the year: 480 Vs original: 38966\n",
      "/work/ms5941/NLP/Temp/Inflation/Inflation_Articles_Tokenized_1998.json done!\n",
      "Count for the year: 420 Vs original: 40768\n",
      "/work/ms5941/NLP/Temp/Inflation/Inflation_Articles_Tokenized_1999.json done!\n",
      "Count for the year: 774 Vs original: 63481\n",
      "/work/ms5941/NLP/Temp/Inflation/Inflation_Articles_Tokenized_2000.json done!\n",
      "Count for the year: 718 Vs original: 60976\n",
      "/work/ms5941/NLP/Temp/Inflation/Inflation_Articles_Tokenized_2001.json done!\n",
      "Count for the year: 924 Vs original: 74314\n",
      "/work/ms5941/NLP/Temp/Inflation/Inflation_Articles_Tokenized_2002.json done!\n",
      "Count for the year: 504 Vs original: 39424\n",
      "/work/ms5941/NLP/Temp/Inflation/Inflation_Articles_Tokenized_2003.json done!\n",
      "Count for the year: 1391 Vs original: 132201\n",
      "/work/ms5941/NLP/Temp/Inflation/Inflation_Articles_Tokenized_2004.json done!\n",
      "Count for the year: 887 Vs original: 76563\n",
      "/work/ms5941/NLP/Temp/Inflation/Inflation_Articles_Tokenized_2005.json done!\n",
      "Count for the year: 1457 Vs original: 130209\n",
      "/work/ms5941/NLP/Temp/Inflation/Inflation_Articles_Tokenized_2006.json done!\n",
      "Count for the year: 1371 Vs original: 132145\n",
      "/work/ms5941/NLP/Temp/Inflation/Inflation_Articles_Tokenized_2007.json done!\n",
      "Count for the year: 1868 Vs original: 149964\n",
      "/work/ms5941/NLP/Temp/Inflation/Inflation_Articles_Tokenized_2008.json done!\n",
      "Count for the year: 1489 Vs original: 135693\n",
      "/work/ms5941/NLP/Temp/Inflation/Inflation_Articles_Tokenized_2009.json done!\n",
      "Count for the year: 1235 Vs original: 113087\n",
      "/work/ms5941/NLP/Temp/Inflation/Inflation_Articles_Tokenized_2010.json done!\n",
      "Count for the year: 2190 Vs original: 163587\n",
      "/work/ms5941/NLP/Temp/Inflation/Inflation_Articles_Tokenized_2011.json done!\n",
      "Count for the year: 1434 Vs original: 127466\n",
      "/work/ms5941/NLP/Temp/Inflation/Inflation_Articles_Tokenized_2012.json done!\n",
      "Count for the year: 1734 Vs original: 149599\n",
      "/work/ms5941/NLP/Temp/Inflation/Inflation_Articles_Tokenized_2013.json done!\n",
      "Count for the year: 1205 Vs original: 109478\n",
      "/work/ms5941/NLP/Temp/Inflation/Inflation_Articles_Tokenized_2014.json done!\n",
      "Count for the year: 717 Vs original: 68050\n",
      "/work/ms5941/NLP/Temp/Inflation/Inflation_Articles_Tokenized_2015.json done!\n",
      "Count for the year: 1291 Vs original: 115368\n",
      "/work/ms5941/NLP/Temp/Inflation/Inflation_Articles_Tokenized_2016.json done!\n",
      "Count for the year: 1283 Vs original: 109236\n",
      "/work/ms5941/NLP/Temp/Inflation/Inflation_Articles_Tokenized_2017.json done!\n",
      "Count for the year: 758 Vs original: 61700\n",
      "/work/ms5941/NLP/Temp/Inflation/Inflation_Articles_Tokenized_2018.json done!\n",
      "Count for the year: 2074 Vs original: 145923\n",
      "/work/ms5941/NLP/Temp/Inflation/Inflation_Articles_Tokenized_2019.json done!\n",
      "Count for the year: 2583 Vs original: 253844\n",
      "/work/ms5941/NLP/Temp/Inflation/Inflation_Articles_Tokenized_2020.json done!\n",
      "Count for the year: 818 Vs original: 73770\n"
     ]
    }
   ],
   "source": [
    "yearly_slices = []\n",
    "for year in years:\n",
    "    # Get the 1% threshold count (the top 1% of most relevant articles)\n",
    "    x = good_words_count_per_year[year]\n",
    "    x.sort()\n",
    "    threshold = x[-int(len(x)*0.01):][0]\n",
    "    year_article_count = 0\n",
    "    with open(TOKENIZED_ARTICLES_PATH % (theme, theme, year)) as f:\n",
    "        article_index = 0\n",
    "        all_articles = json.load(f)\n",
    "        for articles in all_articles:\n",
    "            if good_words_count_per_year[year][article_index] >= threshold:\n",
    "                year_article_count += 1    \n",
    "            article_index += 1\n",
    "    yearly_slices.append(year_article_count)\n",
    "    print(TOKENIZED_ARTICLES_PATH % (theme, theme, year), 'done!')\n",
    "    print('Count for the year:', year_article_count, 'Vs original:', len(all_articles))\n",
    "\n",
    "# dictionary_all = gensim.corpora.Dictionary.load(TEMP_PATH + '/%s/%s_less_restricted.dict' % (theme, theme))"
   ]
  },
  {
   "cell_type": "code",
   "execution_count": 21,
   "metadata": {},
   "outputs": [
    {
     "data": {
      "text/plain": [
       "29940"
      ]
     },
     "execution_count": 21,
     "metadata": {},
     "output_type": "execute_result"
    }
   ],
   "source": [
    "sum(yearly_slices)"
   ]
  },
  {
   "cell_type": "code",
   "execution_count": 22,
   "metadata": {},
   "outputs": [],
   "source": [
    "with open(TEMP_PATH + '/%s/%s_yearly_slices.txt' % (THEME, THEME), 'w') as f:\n",
    "    json.dump(yearly_slices, f)"
   ]
  },
  {
   "cell_type": "code",
   "execution_count": null,
   "metadata": {},
   "outputs": [],
   "source": [
    "# with open(TEMP_PATH + '/%s/%s_yearly_slices.txt' % (THEME, THEME), 'r') as f:\n",
    "#     yearly_slices = json.load(f)"
   ]
  },
  {
   "cell_type": "code",
   "execution_count": 23,
   "metadata": {},
   "outputs": [
    {
     "name": "stdout",
     "output_type": "stream",
     "text": [
      "[335, 480, 420, 774, 718, 924, 504, 1391, 887, 1457, 1371, 1868, 1489, 1235, 2190, 1434, 1734, 1205, 717, 1291, 1283, 758, 2074, 2583, 818]\n"
     ]
    }
   ],
   "source": [
    "print(yearly_slices)"
   ]
  },
  {
   "cell_type": "code",
   "execution_count": 24,
   "metadata": {},
   "outputs": [
    {
     "name": "stderr",
     "output_type": "stream",
     "text": [
      "2021-04-26 00:41:41,123 : INFO : loading Dictionary object from /work/ms5941/NLP/Temp/Inflation/Inflation_less_restricted.dict\n",
      "2021-04-26 00:41:41,125 : INFO : Dictionary lifecycle event {'fname': '/work/ms5941/NLP/Temp/Inflation/Inflation_less_restricted.dict', 'datetime': '2021-04-26T00:41:41.125477', 'gensim': '4.0.1', 'python': '3.7.7 (default, May  7 2020, 21:25:33) \\n[GCC 7.3.0]', 'platform': 'Linux-4.19.0-16-amd64-x86_64-with-debian-10.9', 'event': 'loaded'}\n",
      "2021-04-26 00:41:41,147 : INFO : loaded corpus index from /work/ms5941/NLP/Temp/Inflation/Inflation_less_restricted.mm.index\n",
      "2021-04-26 00:41:41,149 : INFO : initializing cython corpus reader from /work/ms5941/NLP/Temp/Inflation/Inflation_less_restricted.mm\n",
      "2021-04-26 00:41:41,178 : INFO : accepted corpus with 29940 documents, 1623 features, 3903782 non-zero entries\n"
     ]
    }
   ],
   "source": [
    "dictionary_all = gensim.corpora.Dictionary.load(TEMP_PATH + '/%s/%s_less_restricted.dict' % (THEME, THEME))\n",
    "corpus_all = gensim.corpora.MmCorpus(TEMP_PATH + '/%s/%s_less_restricted.mm' % (THEME, THEME))\n"
   ]
  },
  {
   "cell_type": "code",
   "execution_count": 25,
   "metadata": {},
   "outputs": [],
   "source": [
    "import numpy as np\n",
    "\n",
    "cum_yearly_slices = np.cumsum(yearly_slices)\n",
    "\n",
    "corpus_by_year = dict()\n",
    "corpus_by_year[START_YEAR] = corpus_all[:cum_yearly_slices[0]]\n",
    "for i in range(1, 25):\n",
    "    corpus_by_year[START_YEAR + i] = corpus_all[cum_yearly_slices[i-1]:cum_yearly_slices[i]]"
   ]
  },
  {
   "cell_type": "code",
   "execution_count": 26,
   "metadata": {},
   "outputs": [
    {
     "data": {
      "text/plain": [
       "1235"
      ]
     },
     "execution_count": 26,
     "metadata": {},
     "output_type": "execute_result"
    }
   ],
   "source": [
    "len(corpus_by_year[2009]) "
   ]
  },
  {
   "cell_type": "code",
   "execution_count": 38,
   "metadata": {},
   "outputs": [],
   "source": [
    "import matplotlib.pyplot as plt\n",
    "\n",
    "def get_avg_topic_probabilities(lda, corp, num_topics):\n",
    "    \"\"\"\n",
    "    For the given LDA model and corpus, get the aggregate probability of each topic \n",
    "    (by iterating over each document in the corpus, adding up individual probabilities and aggregating)\n",
    "    Then, divide by the total number of documents in the corpus to get the average \n",
    "    topic probabilities for the corpus.\n",
    "    \n",
    "    \"\"\"\n",
    "    all_topics_probabilities = np.zeros(num_topics)\n",
    "    for article in corp:\n",
    "        article_topics = lda.get_document_topics(article)\n",
    "        topic_vec = np.zeros(num_topics)\n",
    "        for k, prob in article_topics:\n",
    "            topic_vec[k] = prob\n",
    "        all_topics_probabilities += topic_vec\n",
    "    \n",
    "    # Avg topic probabilities\n",
    "    avg_topic_probabilities = all_topics_probabilities/float(len(corp))\n",
    "    \n",
    "    return avg_topic_probabilities\n",
    "\n",
    "\n",
    "def get_top_ten_topics_for_year(year, lda, avg_topic_probabilities):\n",
    "    \"\"\"\n",
    "    Using the average topic probabilites, rank the topics and \n",
    "    return the top ten topics for a year.\n",
    "    \n",
    "    \"\"\"\n",
    "    # Get top 10 topics for each year\n",
    "    indices = (-avg_topic_probabilities).argsort()[:10]\n",
    "\n",
    "    top_topics_words = dict()\n",
    "    top_topics_words[year] = dict()\n",
    "    rank = 1\n",
    "    for ind in indices:\n",
    "        top_words = lda.show_topic(ind, topn=10)\n",
    "        words, probs = zip(*top_words)\n",
    "        top_topics_words[year][rank] = top_words\n",
    "        rank += 1\n",
    "\n",
    "    df = pd.DataFrame.from_dict({(i,j): [x[0] for x in top_topics_words[i][j]] for i in top_topics_words.keys() \n",
    "                            for j in top_topics_words[i].keys()}).T\n",
    "    return df, top_topics_words\n",
    "\n",
    "\n",
    "\n",
    "def get_largest_popularity_shifts(avg_topics_all, num_topics=50, passes=50, iterations=400, \n",
    "                                  eval_every=None, update_every=0, alpha='auto', eta='auto'):\n",
    "\n",
    "    # Get topic ranks for each year\n",
    "    yearly_ranks = dict()\n",
    "\n",
    "    temp = (-avg_topics_all[0]).argsort()\n",
    "    ranks = np.empty_like(temp)\n",
    "    ranks[temp] = np.arange(len(avg_topics_all[0]))\n",
    "    yearly_ranks[2019] = ranks\n",
    "\n",
    "    temp = (-avg_topics_all[1]).argsort()\n",
    "    ranks = np.empty_like(temp)\n",
    "    ranks[temp] = np.arange(len(avg_topics_all[1]))\n",
    "    yearly_ranks[2020] = ranks\n",
    "    \n",
    "    shift_in_popularity = yearly_ranks[2019] - yearly_ranks[2020]\n",
    "    \n",
    "    top_shifts = dict()\n",
    "    # Top gains indices\n",
    "    top_shifts['upward'] = (shift_in_popularity).argsort()[:5]\n",
    "    \n",
    "    # Top drops indices\n",
    "    top_shifts['downward'] = (-shift_in_popularity).argsort()[:5]\n",
    "\n",
    "    for trend in ['upward', 'downward']:\n",
    "        print('Top %s shifts in popularity (2019 to 2020)' % trend)\n",
    "        top_shift_topics_words = dict()\n",
    "        rank = 1\n",
    "        for ind in top_shifts[trend]:\n",
    "            tempfile = datapath('model_'+ '_'.join([str(num_topics), str(passes), str(iterations), str(alpha), str(eta)]))\n",
    "            if os.path.exists(tempfile):\n",
    "                lda = gensim.models.LdaModel.load(tempfile)    \n",
    "            top_words = lda.show_topic(ind, topn=12)\n",
    "            words, probs = zip(*top_words)\n",
    "            top_shift_topics_words[rank] = top_words\n",
    "            rank += 1\n",
    "\n",
    "        display(pd.DataFrame.from_dict({x:[y[0] for y in top_shift_topics_words[x]] for x in top_shift_topics_words}).T)\n",
    "    "
   ]
  },
  {
   "cell_type": "code",
   "execution_count": 36,
   "metadata": {},
   "outputs": [],
   "source": [
    "def generate_lda_model(corpus, dictionary, num_topics=10, passes=25, \n",
    "                       iterations=400, eval_every=None, update_every=0, \n",
    "                       alpha='auto', eta='auto'):\n",
    "\n",
    "    lda = gensim.models.LdaModel(corpus=corpus, id2word=dictionary, alpha='auto', eta='auto',\n",
    "                                 iterations=iterations, num_topics=num_topics, passes=passes, \n",
    "                                 eval_every=eval_every, update_every = update_every)\n",
    "    \n",
    "    # Save lda model\n",
    "    tempfile = TEMP_PATH + '/%s/%s_LDA_model_' % (THEME, THEME) + '_'.join([str(num_topics), str(passes), str(iterations), str(alpha), str(eta)]) \n",
    "    lda.save(tempfile)\n",
    "    \n",
    "    return lda\n",
    "\n",
    "\n",
    "\n",
    "def get_topics(corpus_all, dictionary_all, corpus_by_year, num_topics=10, passes=25, iterations=400, \n",
    "               eval_every=None, update_every=0, alpha='auto', eta='auto'):\n",
    "    \"\"\"\n",
    "    Get the top topics for each year, based on an LDA model created using documents of both years\n",
    "    \n",
    "    \"\"\"\n",
    "    # Check if a model with the same config already exists. \n",
    "    # If it does, load the model instead of generating a new one\n",
    "    tempfile = TEMP_PATH + '/%s/%s_LDA_model_' % (THEME, THEME) + '_'.join([str(num_topics), str(passes), str(iterations), str(alpha), str(eta)]) \n",
    "    if os.path.exists(tempfile):\n",
    "        lda = gensim.models.LdaModel.load(tempfile)\n",
    "    else:\n",
    "        lda = generate_lda_model(corpus_all, dictionary_all, num_topics, passes, \n",
    "                                 iterations, eval_every, update_every, alpha, eta)\n",
    "\n",
    "    avg_topics_all = []\n",
    "    for year in range(START_YEAR, END_YEAR + 1):\n",
    "        avg_topic_probabilities = get_avg_topic_probabilities(lda, corpus_by_year[year], num_topics)\n",
    "        df, top_topic_words = get_top_ten_topics_for_year(year, lda, avg_topic_probabilities)\n",
    "        display(df)\n",
    "        avg_topics_all.append(avg_topic_probabilities)\n",
    "\n",
    "    # Plot avg topic distribution graphs\n",
    "    fig, ax = plt.subplots(1, 2, figsize=(15,5))\n",
    "\n",
    "    ax[0].bar(range(len(avg_topics_all[0])), avg_topics_all[0]*100)\n",
    "    ax[1].bar(range(len(avg_topics_all[1])), avg_topics_all[1]*100)\n",
    "    plt.setp(ax, ylim=(0, 20))\n",
    "    plt.show()\n",
    "\n",
    "    return avg_topics_all"
   ]
  },
  {
   "cell_type": "code",
   "execution_count": null,
   "metadata": {},
   "outputs": [
    {
     "name": "stderr",
     "output_type": "stream",
     "text": [
      "2021-04-26 02:03:35,852 : INFO : using autotuned alpha, starting with [0.06666667, 0.06666667, 0.06666667, 0.06666667, 0.06666667, 0.06666667, 0.06666667, 0.06666667, 0.06666667, 0.06666667, 0.06666667, 0.06666667, 0.06666667, 0.06666667, 0.06666667]\n",
      "2021-04-26 02:03:35,854 : INFO : using serial LDA version on this node\n",
      "2021-04-26 02:03:35,857 : INFO : running batch LDA training, 15 topics, 25 passes over the supplied corpus of 29940 documents, updating model once every 29940 documents, evaluating perplexity every 0 documents, iterating 400x with a convergence threshold of 0.001000\n",
      "2021-04-26 02:03:36,020 : INFO : PROGRESS: pass 0, at document #2000/29940\n",
      "2021-04-26 02:03:48,942 : INFO : optimized alpha [0.052263323, 0.044922367, 0.048453897, 0.058766693, 0.04996645, 0.053361673, 0.04557566, 0.047570415, 0.047592096, 0.05980467, 0.048661433, 0.048281375, 0.049460262, 0.047281563, 0.050988495]\n",
      "2021-04-26 02:03:49,154 : INFO : PROGRESS: pass 0, at document #4000/29940\n",
      "2021-04-26 02:04:04,036 : INFO : optimized alpha [0.04290431, 0.03493851, 0.04064354, 0.05143459, 0.038310472, 0.04157926, 0.036085784, 0.037761886, 0.03809105, 0.058701757, 0.037820425, 0.039098613, 0.039434616, 0.036361072, 0.041617844]\n",
      "2021-04-26 02:04:04,223 : INFO : PROGRESS: pass 0, at document #6000/29940\n",
      "2021-04-26 02:04:17,200 : INFO : optimized alpha [0.036591087, 0.028228171, 0.034046665, 0.045280904, 0.030371659, 0.04890072, 0.029191492, 0.031574998, 0.032171883, 0.045438655, 0.029888185, 0.032195926, 0.035277814, 0.029523974, 0.032208733]\n",
      "2021-04-26 02:04:17,407 : INFO : PROGRESS: pass 0, at document #8000/29940\n",
      "2021-04-26 02:04:30,627 : INFO : optimized alpha [0.031010289, 0.024077881, 0.029197583, 0.04429904, 0.026305424, 0.04363395, 0.024948224, 0.027727138, 0.02749257, 0.039036516, 0.025972638, 0.026776405, 0.03165453, 0.026099619, 0.028590826]\n",
      "2021-04-26 02:04:30,812 : INFO : PROGRESS: pass 0, at document #10000/29940\n",
      "2021-04-26 02:04:43,987 : INFO : optimized alpha [0.02611354, 0.020634571, 0.026557207, 0.04677159, 0.023520213, 0.03864166, 0.021601602, 0.024489101, 0.024391275, 0.034518808, 0.02307853, 0.02325958, 0.028497847, 0.022746993, 0.025726432]\n",
      "2021-04-26 02:04:44,204 : INFO : PROGRESS: pass 0, at document #12000/29940\n",
      "2021-04-26 02:04:58,508 : INFO : optimized alpha [0.022717232, 0.018155798, 0.02446686, 0.05139729, 0.02054079, 0.037657868, 0.018925454, 0.02219701, 0.022137657, 0.032862816, 0.020039883, 0.020677257, 0.024973694, 0.020145861, 0.02291236]\n",
      "2021-04-26 02:04:58,751 : INFO : PROGRESS: pass 0, at document #14000/29940\n",
      "2021-04-26 02:05:13,995 : INFO : optimized alpha [0.020096978, 0.016381785, 0.022304658, 0.05647631, 0.01864772, 0.036730528, 0.016797477, 0.019777332, 0.020400418, 0.033242323, 0.01768496, 0.018645233, 0.02298899, 0.018115235, 0.02024923]\n",
      "2021-04-26 02:05:14,259 : INFO : PROGRESS: pass 0, at document #16000/29940\n",
      "2021-04-26 02:05:31,703 : INFO : optimized alpha [0.017876694, 0.017459916, 0.019179508, 0.06200668, 0.016215436, 0.035139397, 0.01507074, 0.01717253, 0.023928834, 0.029967384, 0.015695255, 0.01684061, 0.022108, 0.016852846, 0.01753018]\n",
      "2021-04-26 02:05:33,620 : INFO : PROGRESS: pass 0, at document #18000/29940\n",
      "2021-04-26 02:05:51,361 : INFO : optimized alpha [0.0160004, 0.01579298, 0.017292766, 0.07138914, 0.015610173, 0.030619206, 0.013846045, 0.016054017, 0.025990687, 0.02908442, 0.014121915, 0.017382499, 0.021363575, 0.015296593, 0.015857529]\n",
      "2021-04-26 02:05:51,663 : INFO : PROGRESS: pass 0, at document #20000/29940\n",
      "2021-04-26 02:06:09,483 : INFO : optimized alpha [0.014611732, 0.014539584, 0.01602771, 0.0874389, 0.014773813, 0.027788062, 0.013226401, 0.0155705605, 0.029592099, 0.02483882, 0.012838748, 0.016146164, 0.021077622, 0.0138512375, 0.0148326205]\n",
      "2021-04-26 02:06:09,780 : INFO : PROGRESS: pass 0, at document #22000/29940\n",
      "2021-04-26 02:06:27,563 : INFO : optimized alpha [0.013527143, 0.013841593, 0.0154735185, 0.10938409, 0.013509929, 0.02556349, 0.012265608, 0.014235634, 0.027959622, 0.021959327, 0.012027187, 0.01565121, 0.021877391, 0.012626648, 0.013649935]\n",
      "2021-04-26 02:06:27,866 : INFO : PROGRESS: pass 0, at document #24000/29940\n",
      "2021-04-26 02:06:46,512 : INFO : optimized alpha [0.012644001, 0.012747966, 0.014435172, 0.12311646, 0.012552394, 0.02385363, 0.011659157, 0.01316729, 0.032393623, 0.01963587, 0.011359799, 0.015658915, 0.022504019, 0.011691632, 0.0127226105]\n",
      "2021-04-26 02:06:46,818 : INFO : PROGRESS: pass 0, at document #26000/29940\n",
      "2021-04-26 02:07:05,454 : INFO : optimized alpha [0.012248805, 0.011692837, 0.013836365, 0.14012024, 0.011652993, 0.020583, 0.010862539, 0.012108193, 0.034891427, 0.01878008, 0.01067683, 0.015488573, 0.023747308, 0.011181452, 0.011995174]\n",
      "2021-04-26 02:07:05,778 : INFO : PROGRESS: pass 0, at document #28000/29940\n",
      "2021-04-26 02:07:32,774 : INFO : optimized alpha [0.011847452, 0.010784074, 0.012943775, 0.1943552, 0.01103949, 0.018542387, 0.010212456, 0.01142875, 0.037754823, 0.017307691, 0.011630688, 0.015571608, 0.021759318, 0.010461683, 0.011137502]\n",
      "2021-04-26 02:07:33,241 : INFO : PROGRESS: pass 0, at document #29940/29940\n",
      "2021-04-26 02:07:56,927 : INFO : optimized alpha [0.011229996, 0.010019669, 0.012116407, 0.23069465, 0.010614621, 0.0169875, 0.009648884, 0.011455665, 0.039257035, 0.016985437, 0.011392889, 0.015640264, 0.020972436, 0.009802917, 0.010423239]\n",
      "2021-04-26 02:07:56,975 : INFO : topic #6 (0.010): 0.006*\"price\" + 0.005*\"high\" + 0.005*\"holiday\" + 0.005*\"tax\" + 0.004*\"exchange\" + 0.004*\"stock\" + 0.004*\"dollar\" + 0.004*\"bond\" + 0.004*\"lower\" + 0.004*\"higher\"\n",
      "2021-04-26 02:07:56,977 : INFO : topic #13 (0.010): 0.059*\"holiday\" + 0.020*\"wheat\" + 0.011*\"corn\" + 0.008*\"cents\" + 0.008*\"futures\" + 0.007*\"tonnes\" + 0.006*\"grain\" + 0.006*\"exchange\" + 0.005*\"export\" + 0.005*\"trading\"\n",
      "2021-04-26 02:07:56,978 : INFO : topic #12 (0.021): 0.006*\"reserve\" + 0.005*\"federal\" + 0.005*\"president\" + 0.004*\"consumer\" + 0.004*\"annual\" + 0.004*\"key\" + 0.004*\"link\" + 0.004*\"dollar\" + 0.004*\"ecb\" + 0.004*\"japan\"\n",
      "2021-04-26 02:07:56,979 : INFO : topic #8 (0.039): 0.006*\"deals\" + 0.005*\"dbt\" + 0.005*\"emerging\" + 0.005*\"commodity\" + 0.005*\"find\" + 0.005*\"consumer\" + 0.005*\"exchange\" + 0.005*\"goods\" + 0.005*\"euribor\" + 0.004*\"usbmk\"\n",
      "2021-04-26 02:07:56,980 : INFO : topic #3 (0.231): 0.006*\"nasdaq\" + 0.005*\"dow\" + 0.005*\"emrg\" + 0.005*\"consumer\" + 0.005*\"foreign\" + 0.004*\"retail\" + 0.004*\"media\" + 0.004*\"latest\" + 0.004*\"frx\" + 0.004*\"exchange\"\n",
      "2021-04-26 02:07:56,981 : INFO : topic diff=0.853352, rho=1.000000\n",
      "2021-04-26 02:07:57,138 : INFO : PROGRESS: pass 1, at document #2000/29940\n",
      "2021-04-26 02:08:04,440 : INFO : optimized alpha [0.011685103, 0.009786208, 0.0124612795, 0.10988189, 0.011135238, 0.016316067, 0.009842206, 0.011589378, 0.035473637, 0.017641611, 0.011403111, 0.015128224, 0.019936422, 0.009876655, 0.010926223]\n",
      "2021-04-26 02:08:04,649 : INFO : PROGRESS: pass 1, at document #4000/29940\n",
      "2021-04-26 02:08:12,643 : INFO : optimized alpha [0.012023607, 0.0096158115, 0.013269627, 0.082091965, 0.011528132, 0.015731836, 0.010202025, 0.011895927, 0.032528453, 0.018362993, 0.011295484, 0.01470101, 0.019031417, 0.0099101635, 0.011321082]\n",
      "2021-04-26 02:08:12,821 : INFO : PROGRESS: pass 1, at document #6000/29940\n",
      "2021-04-26 02:08:17,426 : INFO : optimized alpha [0.011878697, 0.0094202785, 0.013415671, 0.06693973, 0.011604929, 0.017361479, 0.01024796, 0.011879552, 0.0304278, 0.018174745, 0.011123588, 0.014292916, 0.01825409, 0.009821362, 0.011341658]\n",
      "2021-04-26 02:08:17,618 : INFO : PROGRESS: pass 1, at document #8000/29940\n",
      "2021-04-26 02:08:23,095 : INFO : optimized alpha [0.01181448, 0.00924464, 0.013650694, 0.05665797, 0.01189421, 0.01758813, 0.010426736, 0.01213945, 0.028328855, 0.018073315, 0.011077943, 0.013948302, 0.017524185, 0.009973492, 0.011692256]\n",
      "2021-04-26 02:08:23,281 : INFO : PROGRESS: pass 1, at document #10000/29940\n",
      "2021-04-26 02:08:29,376 : INFO : optimized alpha [0.0119309295, 0.009090684, 0.014003117, 0.04926638, 0.0123402765, 0.017590353, 0.010546136, 0.012488458, 0.026478218, 0.018021647, 0.0110215815, 0.013561896, 0.016932663, 0.010123248, 0.012023309]\n",
      "2021-04-26 02:08:29,594 : INFO : PROGRESS: pass 1, at document #12000/29940\n",
      "2021-04-26 02:08:36,246 : INFO : optimized alpha [0.011931753, 0.008934611, 0.014394387, 0.04480731, 0.012554167, 0.018097479, 0.010684032, 0.012862548, 0.024924133, 0.018217197, 0.010931819, 0.013177306, 0.016346654, 0.010269979, 0.012355493]\n"
     ]
    },
    {
     "name": "stderr",
     "output_type": "stream",
     "text": [
      "2021-04-26 02:08:36,475 : INFO : PROGRESS: pass 1, at document #14000/29940\n",
      "2021-04-26 02:08:44,222 : INFO : optimized alpha [0.0118677635, 0.008828902, 0.014805695, 0.04212148, 0.0127675, 0.018763013, 0.010828909, 0.013137182, 0.024449682, 0.01853006, 0.010797266, 0.0128673585, 0.015761895, 0.010387859, 0.012479767]\n",
      "2021-04-26 02:08:44,468 : INFO : PROGRESS: pass 1, at document #16000/29940\n",
      "2021-04-26 02:08:50,942 : INFO : optimized alpha [0.011689831, 0.009548051, 0.014585014, 0.038009547, 0.012571252, 0.018453281, 0.010951991, 0.01300552, 0.027156606, 0.01816489, 0.010600126, 0.012534592, 0.015237059, 0.010408085, 0.01232541]\n",
      "2021-04-26 02:08:51,226 : INFO : PROGRESS: pass 1, at document #18000/29940\n",
      "2021-04-26 02:08:58,601 : INFO : optimized alpha [0.011596731, 0.00938574, 0.014654731, 0.03798643, 0.012675713, 0.018000772, 0.011186326, 0.012964474, 0.028961727, 0.017888185, 0.010458774, 0.012262683, 0.014742553, 0.010274606, 0.012438212]\n",
      "2021-04-26 02:08:58,899 : INFO : PROGRESS: pass 1, at document #20000/29940\n",
      "2021-04-26 02:09:05,827 : INFO : optimized alpha [0.011461735, 0.009203875, 0.014680904, 0.03703537, 0.012664017, 0.017395973, 0.011482084, 0.012807254, 0.030506838, 0.017359737, 0.010302542, 0.012036291, 0.01428653, 0.010115227, 0.012396088]\n",
      "2021-04-26 02:09:06,128 : INFO : PROGRESS: pass 1, at document #22000/29940\n",
      "2021-04-26 02:09:14,451 : INFO : optimized alpha [0.011401497, 0.0090308525, 0.014894491, 0.03863643, 0.012675363, 0.016764821, 0.011694736, 0.012655054, 0.030410903, 0.017065546, 0.010157957, 0.011792072, 0.013848879, 0.009965296, 0.012331799]\n",
      "2021-04-26 02:09:14,745 : INFO : PROGRESS: pass 1, at document #24000/29940\n",
      "2021-04-26 02:09:22,169 : INFO : optimized alpha [0.01130132, 0.008847627, 0.014884342, 0.03851732, 0.012752565, 0.01614231, 0.012039582, 0.012538777, 0.030932518, 0.016632607, 0.010087028, 0.011534367, 0.013536231, 0.009804278, 0.012242899]\n",
      "2021-04-26 02:09:22,486 : INFO : PROGRESS: pass 1, at document #26000/29940\n",
      "2021-04-26 02:09:29,627 : INFO : optimized alpha [0.011173426, 0.008670273, 0.014996119, 0.03895832, 0.012506793, 0.015529159, 0.012270428, 0.012273172, 0.03171233, 0.01629519, 0.009924015, 0.011315148, 0.013269309, 0.009618981, 0.012127021]\n",
      "2021-04-26 02:09:29,954 : INFO : PROGRESS: pass 1, at document #28000/29940\n",
      "2021-04-26 02:09:38,886 : INFO : optimized alpha [0.0109943915, 0.008493948, 0.014815392, 0.039436053, 0.012231224, 0.014972118, 0.0121991, 0.012025831, 0.03471049, 0.015840765, 0.009917023, 0.011190672, 0.012887498, 0.00944812, 0.011888457]\n",
      "2021-04-26 02:09:39,196 : INFO : PROGRESS: pass 1, at document #29940/29940\n",
      "2021-04-26 02:09:46,782 : INFO : optimized alpha [0.010807221, 0.008326113, 0.014590289, 0.041145686, 0.012054732, 0.014460431, 0.012298123, 0.011835062, 0.036086194, 0.015435811, 0.009798679, 0.011057354, 0.012524034, 0.009275868, 0.011741135]\n",
      "2021-04-26 02:09:46,807 : INFO : topic #1 (0.008): 0.009*\"futures\" + 0.006*\"options\" + 0.006*\"dow\" + 0.006*\"wealth\" + 0.005*\"treasury\" + 0.005*\"ftse\" + 0.005*\"management\" + 0.005*\"help\" + 0.004*\"indicators\" + 0.004*\"services\"\n",
      "2021-04-26 02:09:46,824 : INFO : topic #13 (0.009): 0.063*\"holiday\" + 0.021*\"wheat\" + 0.014*\"corn\" + 0.011*\"futures\" + 0.010*\"cents\" + 0.009*\"grain\" + 0.009*\"usda\" + 0.007*\"tonnes\" + 0.007*\"export\" + 0.006*\"chicago\"\n",
      "2021-04-26 02:09:46,825 : INFO : topic #9 (0.015): 0.005*\"end\" + 0.005*\"currency\" + 0.004*\"time\" + 0.004*\"yen\" + 0.004*\"investors\" + 0.004*\"swiss\" + 0.004*\"london\" + 0.004*\"next\" + 0.004*\"consumer\" + 0.004*\"trading\"\n",
      "2021-04-26 02:09:46,826 : INFO : topic #8 (0.036): 0.006*\"deals\" + 0.006*\"dbt\" + 0.005*\"emerging\" + 0.005*\"consumer\" + 0.005*\"find\" + 0.005*\"commodity\" + 0.005*\"exchange\" + 0.005*\"goods\" + 0.005*\"ifr\" + 0.005*\"eqa\"\n",
      "2021-04-26 02:09:46,828 : INFO : topic #3 (0.041): 0.006*\"nasdaq\" + 0.005*\"emrg\" + 0.005*\"japan\" + 0.005*\"latest\" + 0.005*\"consumer\" + 0.005*\"frx\" + 0.005*\"dow\" + 0.005*\"foreign\" + 0.005*\"eci\" + 0.005*\"retail\"\n",
      "2021-04-26 02:09:46,829 : INFO : topic diff=0.142580, rho=0.242750\n",
      "2021-04-26 02:09:46,971 : INFO : PROGRESS: pass 2, at document #2000/29940\n",
      "2021-04-26 02:09:52,825 : INFO : optimized alpha [0.011131264, 0.008177621, 0.01492525, 0.03731284, 0.012775412, 0.014008364, 0.012598454, 0.012030143, 0.033136822, 0.016056461, 0.009834942, 0.010839156, 0.012181612, 0.009400027, 0.012177349]\n",
      "2021-04-26 02:09:53,047 : INFO : PROGRESS: pass 2, at document #4000/29940\n",
      "2021-04-26 02:09:58,971 : INFO : optimized alpha [0.011383633, 0.008036675, 0.015814327, 0.034055736, 0.0133802425, 0.013576068, 0.012843727, 0.012406677, 0.030566841, 0.016555853, 0.009736164, 0.010617058, 0.01184598, 0.009466874, 0.012454412]\n",
      "2021-04-26 02:09:59,162 : INFO : PROGRESS: pass 2, at document #6000/29940\n",
      "2021-04-26 02:10:02,839 : INFO : optimized alpha [0.011270437, 0.007895484, 0.015792845, 0.03136695, 0.013503204, 0.014971491, 0.0128040565, 0.012374565, 0.028415099, 0.016358195, 0.009607069, 0.010407412, 0.011540836, 0.009413204, 0.012389974]\n",
      "2021-04-26 02:10:03,021 : INFO : PROGRESS: pass 2, at document #8000/29940\n",
      "2021-04-26 02:10:07,112 : INFO : optimized alpha [0.011194852, 0.0077638826, 0.01586306, 0.02905011, 0.0138864955, 0.0151670445, 0.012891428, 0.012626774, 0.026513293, 0.01622489, 0.009570135, 0.010234953, 0.011245501, 0.009591189, 0.012652379]\n",
      "2021-04-26 02:10:07,279 : INFO : PROGRESS: pass 2, at document #10000/29940\n",
      "2021-04-26 02:10:11,672 : INFO : optimized alpha [0.011309452, 0.0076407683, 0.01611636, 0.027064957, 0.014455283, 0.015189449, 0.012922621, 0.013012245, 0.024862796, 0.01609256, 0.009505775, 0.010053387, 0.010999406, 0.009742812, 0.012919434]\n",
      "2021-04-26 02:10:11,882 : INFO : PROGRESS: pass 2, at document #12000/29940\n",
      "2021-04-26 02:10:17,077 : INFO : optimized alpha [0.011336517, 0.0075150505, 0.016435841, 0.025355922, 0.01475726, 0.015625212, 0.012972784, 0.013417594, 0.023903271, 0.016162354, 0.009450848, 0.009855369, 0.010748142, 0.009892978, 0.013129136]\n",
      "2021-04-26 02:10:17,309 : INFO : PROGRESS: pass 2, at document #14000/29940\n",
      "2021-04-26 02:10:23,291 : INFO : optimized alpha [0.011259065, 0.0074459133, 0.01678311, 0.024141796, 0.014989022, 0.016215134, 0.01313869, 0.013696433, 0.02381842, 0.016363876, 0.0093387505, 0.009690528, 0.010490628, 0.010024298, 0.013111612]\n",
      "2021-04-26 02:10:23,548 : INFO : PROGRESS: pass 2, at document #16000/29940\n",
      "2021-04-26 02:10:28,344 : INFO : optimized alpha [0.011110622, 0.008144997, 0.0163964, 0.022902438, 0.014714018, 0.01602431, 0.013258605, 0.01353899, 0.026343811, 0.016029527, 0.009186156, 0.009515883, 0.010266621, 0.010081864, 0.012883011]\n",
      "2021-04-26 02:10:28,605 : INFO : PROGRESS: pass 2, at document #18000/29940\n",
      "2021-04-26 02:10:34,621 : INFO : optimized alpha [0.011027546, 0.008022014, 0.01636907, 0.022483114, 0.014822419, 0.015740724, 0.013494907, 0.013498071, 0.028091742, 0.015784856, 0.009081948, 0.009365938, 0.010032203, 0.00996071, 0.012901545]\n",
      "2021-04-26 02:10:34,942 : INFO : PROGRESS: pass 2, at document #20000/29940\n",
      "2021-04-26 02:10:39,890 : INFO : optimized alpha [0.010903463, 0.00788484, 0.016251663, 0.022140969, 0.01482304, 0.015282654, 0.013807205, 0.0133403, 0.030093424, 0.015299975, 0.008964716, 0.009254297, 0.0098096905, 0.009813944, 0.012732713]\n",
      "2021-04-26 02:10:40,186 : INFO : PROGRESS: pass 2, at document #22000/29940\n",
      "2021-04-26 02:10:45,933 : INFO : optimized alpha [0.010827122, 0.007747169, 0.01632076, 0.022864623, 0.0148483915, 0.014773883, 0.014103283, 0.013157996, 0.030318607, 0.015006089, 0.008851664, 0.009119615, 0.009592793, 0.009672981, 0.012551448]\n",
      "2021-04-26 02:10:46,253 : INFO : PROGRESS: pass 2, at document #24000/29940\n",
      "2021-04-26 02:10:51,086 : INFO : optimized alpha [0.01074284, 0.007605752, 0.016120447, 0.02293545, 0.014951019, 0.014275417, 0.014494145, 0.013024988, 0.030853974, 0.01462797, 0.008799514, 0.008972312, 0.009435901, 0.00952007, 0.012342125]\n",
      "2021-04-26 02:10:51,396 : INFO : PROGRESS: pass 2, at document #26000/29940\n",
      "2021-04-26 02:10:56,043 : INFO : optimized alpha [0.010615811, 0.007466591, 0.016130717, 0.02343607, 0.014639539, 0.013782275, 0.01483088, 0.012750528, 0.031848688, 0.014321824, 0.008672066, 0.008851462, 0.009259195, 0.009336562, 0.012144313]\n",
      "2021-04-26 02:10:57,876 : INFO : PROGRESS: pass 2, at document #28000/29940\n"
     ]
    },
    {
     "name": "stderr",
     "output_type": "stream",
     "text": [
      "2021-04-26 02:11:01,704 : INFO : optimized alpha [0.010448678, 0.007331315, 0.015819628, 0.023051213, 0.014271341, 0.013323141, 0.014704699, 0.012482776, 0.034941748, 0.013876545, 0.008639371, 0.008796165, 0.009057965, 0.009160625, 0.011866662]\n",
      "2021-04-26 02:11:02,015 : INFO : PROGRESS: pass 2, at document #29940/29940\n",
      "2021-04-26 02:11:06,618 : INFO : optimized alpha [0.010276774, 0.0072023286, 0.015455704, 0.023383535, 0.014039294, 0.012901764, 0.014764835, 0.012272251, 0.036477778, 0.013481815, 0.0085466225, 0.008730208, 0.008872802, 0.0089920815, 0.01166738]\n",
      "2021-04-26 02:11:06,660 : INFO : topic #1 (0.007): 0.010*\"futures\" + 0.008*\"wealth\" + 0.006*\"options\" + 0.006*\"dow\" + 0.006*\"management\" + 0.006*\"ftse\" + 0.005*\"help\" + 0.005*\"indicators\" + 0.005*\"view\" + 0.005*\"group\"\n",
      "2021-04-26 02:11:06,662 : INFO : topic #10 (0.009): 0.007*\"washington\" + 0.006*\"claims\" + 0.006*\"mln\" + 0.006*\"time\" + 0.005*\"meeting\" + 0.005*\"sales\" + 0.004*\"president\" + 0.004*\"consumer\" + 0.004*\"annual\" + 0.004*\"shareholders\"\n",
      "2021-04-26 02:11:06,663 : INFO : topic #2 (0.015): 0.017*\"holiday\" + 0.010*\"gold\" + 0.006*\"sales\" + 0.006*\"rose\" + 0.005*\"spending\" + 0.005*\"consumer\" + 0.004*\"points\" + 0.004*\"government\" + 0.004*\"high\" + 0.004*\"trading\"\n",
      "2021-04-26 02:11:06,664 : INFO : topic #3 (0.023): 0.006*\"nasdaq\" + 0.005*\"japan\" + 0.005*\"emrg\" + 0.005*\"latest\" + 0.005*\"frx\" + 0.005*\"emerging\" + 0.005*\"eci\" + 0.005*\"key\" + 0.005*\"phone\" + 0.005*\"consumer\"\n",
      "2021-04-26 02:11:06,665 : INFO : topic #8 (0.036): 0.006*\"deals\" + 0.006*\"dbt\" + 0.006*\"emerging\" + 0.006*\"consumer\" + 0.006*\"find\" + 0.005*\"exchange\" + 0.005*\"commodity\" + 0.005*\"ifr\" + 0.005*\"goods\" + 0.005*\"health\"\n",
      "2021-04-26 02:11:06,666 : INFO : topic diff=0.125780, rho=0.235899\n",
      "2021-04-26 02:11:06,815 : INFO : PROGRESS: pass 3, at document #2000/29940\n",
      "2021-04-26 02:11:11,975 : INFO : optimized alpha [0.0104836365, 0.0070902333, 0.015786102, 0.022134595, 0.014927655, 0.01253273, 0.015054455, 0.012516715, 0.033444256, 0.014048866, 0.008584157, 0.008593788, 0.008701949, 0.009144238, 0.012018473]\n",
      "2021-04-26 02:11:12,192 : INFO : PROGRESS: pass 3, at document #4000/29940\n",
      "2021-04-26 02:11:17,530 : INFO : optimized alpha [0.010693833, 0.006981048, 0.016720327, 0.0209823, 0.015663762, 0.012184069, 0.0152172875, 0.012904464, 0.030820327, 0.014472891, 0.008516783, 0.008455584, 0.008532061, 0.009246544, 0.012197414]\n",
      "2021-04-26 02:11:17,710 : INFO : PROGRESS: pass 3, at document #6000/29940\n",
      "2021-04-26 02:11:20,769 : INFO : optimized alpha [0.010611982, 0.0068741683, 0.016607843, 0.019950502, 0.015756868, 0.013413976, 0.015046227, 0.012851725, 0.028595895, 0.014321048, 0.0084308, 0.008330953, 0.008375629, 0.009215596, 0.012103584]\n",
      "2021-04-26 02:11:20,964 : INFO : PROGRESS: pass 3, at document #8000/29940\n",
      "2021-04-26 02:11:24,719 : INFO : optimized alpha [0.010544585, 0.0067760753, 0.016616067, 0.019011037, 0.016160058, 0.0136173675, 0.015077541, 0.013111203, 0.02666575, 0.01423941, 0.00841105, 0.008232728, 0.008220575, 0.009419858, 0.01233463]\n",
      "2021-04-26 02:11:24,897 : INFO : PROGRESS: pass 3, at document #10000/29940\n",
      "2021-04-26 02:11:28,765 : INFO : optimized alpha [0.010674189, 0.0066836476, 0.016823532, 0.018160854, 0.016801104, 0.013652517, 0.015022696, 0.013488906, 0.024992755, 0.01410829, 0.008361916, 0.008127345, 0.008088463, 0.0095866835, 0.012571928]\n",
      "2021-04-26 02:11:28,972 : INFO : PROGRESS: pass 3, at document #12000/29940\n",
      "2021-04-26 02:11:33,442 : INFO : optimized alpha [0.0107266735, 0.006592348, 0.017113792, 0.017385097, 0.017114524, 0.014040818, 0.015054066, 0.013886515, 0.024018783, 0.0141691305, 0.008331711, 0.008016549, 0.007952322, 0.009741506, 0.0127010215]\n",
      "2021-04-26 02:11:33,646 : INFO : PROGRESS: pass 3, at document #14000/29940\n",
      "2021-04-26 02:11:38,608 : INFO : optimized alpha [0.010657133, 0.0065817893, 0.01743803, 0.016710259, 0.017325496, 0.014556485, 0.015218946, 0.014177496, 0.023936031, 0.014347913, 0.008241325, 0.007926772, 0.007809082, 0.009878468, 0.01265801]\n",
      "2021-04-26 02:11:38,864 : INFO : PROGRESS: pass 3, at document #16000/29940\n",
      "2021-04-26 02:11:43,507 : INFO : optimized alpha [0.0105346665, 0.007406274, 0.01700249, 0.016145056, 0.016938899, 0.014444438, 0.0152984485, 0.013994246, 0.026243445, 0.014100767, 0.008120243, 0.007822701, 0.0076708393, 0.009948941, 0.012422352]\n",
      "2021-04-26 02:11:43,775 : INFO : PROGRESS: pass 3, at document #18000/29940\n",
      "2021-04-26 02:11:48,036 : INFO : optimized alpha [0.010480425, 0.0073195505, 0.016946321, 0.015651995, 0.017015444, 0.014268544, 0.0154897515, 0.013944548, 0.027898343, 0.013933252, 0.008053554, 0.0077207633, 0.007541751, 0.009848909, 0.012384243]\n",
      "2021-04-26 02:11:48,321 : INFO : PROGRESS: pass 3, at document #20000/29940\n",
      "2021-04-26 02:11:52,380 : INFO : optimized alpha [0.010383056, 0.0072270567, 0.016787197, 0.015349587, 0.016990585, 0.013912059, 0.015767697, 0.013788265, 0.029803526, 0.013562739, 0.007975076, 0.0076650735, 0.0074176826, 0.009709964, 0.012219651]\n",
      "2021-04-26 02:11:52,661 : INFO : PROGRESS: pass 3, at document #22000/29940\n",
      "2021-04-26 02:11:56,689 : INFO : optimized alpha [0.010330261, 0.0071056793, 0.016738337, 0.015659492, 0.016986446, 0.01348027, 0.016032716, 0.013615122, 0.030149575, 0.013316395, 0.0079012355, 0.007586009, 0.007295861, 0.009581215, 0.012059779]\n",
      "2021-04-26 02:11:56,981 : INFO : PROGRESS: pass 3, at document #24000/29940\n",
      "2021-04-26 02:12:00,824 : INFO : optimized alpha [0.010284195, 0.0069878967, 0.016486153, 0.015820803, 0.017061144, 0.013057743, 0.016378256, 0.01348807, 0.03073677, 0.013020981, 0.007867343, 0.007501158, 0.0072043436, 0.00943348, 0.011848215]\n",
      "2021-04-26 02:12:01,125 : INFO : PROGRESS: pass 3, at document #26000/29940\n",
      "2021-04-26 02:12:04,967 : INFO : optimized alpha [0.010194807, 0.006870368, 0.016412722, 0.016310459, 0.016680077, 0.012644802, 0.016714768, 0.013208894, 0.0316167, 0.012766876, 0.007769365, 0.007423073, 0.00710407, 0.009255673, 0.011654623]\n",
      "2021-04-26 02:12:05,292 : INFO : PROGRESS: pass 3, at document #28000/29940\n",
      "2021-04-26 02:12:08,250 : INFO : optimized alpha [0.010043166, 0.0067559388, 0.01605845, 0.01628363, 0.016188206, 0.012258743, 0.016517442, 0.012925076, 0.034474514, 0.012413626, 0.0077502932, 0.00739785, 0.006986754, 0.009085578, 0.01140021]\n",
      "2021-04-26 02:12:08,559 : INFO : PROGRESS: pass 3, at document #29940/29940\n",
      "2021-04-26 02:12:11,560 : INFO : optimized alpha [0.009907156, 0.006647216, 0.015637213, 0.016675401, 0.01586784, 0.011899193, 0.016505068, 0.012692932, 0.035900306, 0.0120728, 0.0076794564, 0.0073640174, 0.00687378, 0.008921066, 0.011210396]\n",
      "2021-04-26 02:12:11,606 : INFO : topic #1 (0.007): 0.010*\"wealth\" + 0.010*\"futures\" + 0.007*\"management\" + 0.007*\"ftse\" + 0.006*\"dow\" + 0.006*\"options\" + 0.006*\"risk\" + 0.006*\"indicators\" + 0.006*\"politics\" + 0.006*\"view\"\n",
      "2021-04-26 02:12:11,608 : INFO : topic #12 (0.007): 0.006*\"reserve\" + 0.005*\"federal\" + 0.005*\"president\" + 0.005*\"annual\" + 0.005*\"link\" + 0.004*\"key\" + 0.004*\"consumer\" + 0.004*\"ecb\" + 0.004*\"events\" + 0.004*\"japan\"\n",
      "2021-04-26 02:12:11,610 : INFO : topic #6 (0.017): 0.010*\"dollar\" + 0.007*\"high\" + 0.007*\"bond\" + 0.006*\"yields\" + 0.006*\"price\" + 0.006*\"investors\" + 0.006*\"yield\" + 0.006*\"last\" + 0.005*\"two\" + 0.005*\"end\"\n",
      "2021-04-26 02:12:11,611 : INFO : topic #3 (0.017): 0.006*\"japan\" + 0.006*\"key\" + 0.005*\"emrg\" + 0.005*\"nasdaq\" + 0.005*\"latest\" + 0.005*\"frx\" + 0.005*\"emerging\" + 0.005*\"eci\" + 0.005*\"swiss\" + 0.005*\"reserve\"\n",
      "2021-04-26 02:12:11,612 : INFO : topic #8 (0.036): 0.006*\"deals\" + 0.006*\"dbt\" + 0.006*\"consumer\" + 0.006*\"emerging\" + 0.006*\"exchange\" + 0.006*\"foreign\" + 0.006*\"find\" + 0.006*\"goods\" + 0.006*\"ifr\" + 0.006*\"health\"\n",
      "2021-04-26 02:12:11,613 : INFO : topic diff=0.116707, rho=0.229597\n",
      "2021-04-26 02:12:11,751 : INFO : PROGRESS: pass 4, at document #2000/29940\n",
      "2021-04-26 02:12:16,209 : INFO : optimized alpha [0.010054496, 0.0065509453, 0.015984343, 0.016046999, 0.01686969, 0.011587095, 0.016727434, 0.012960496, 0.032978572, 0.012601361, 0.0077280854, 0.007266479, 0.006773094, 0.009084041, 0.011485908]\n",
      "2021-04-26 02:12:16,429 : INFO : PROGRESS: pass 4, at document #4000/29940\n",
      "2021-04-26 02:12:21,174 : INFO : optimized alpha [0.010249388, 0.006457307, 0.016931048, 0.015448918, 0.017691854, 0.011297381, 0.01680404, 0.013359621, 0.030444078, 0.012976874, 0.0076829377, 0.0071721403, 0.00667209, 0.009200523, 0.011619558]\n"
     ]
    },
    {
     "name": "stderr",
     "output_type": "stream",
     "text": [
      "2021-04-26 02:12:21,338 : INFO : PROGRESS: pass 4, at document #6000/29940\n",
      "2021-04-26 02:12:24,047 : INFO : optimized alpha [0.010185611, 0.006370862, 0.01680307, 0.01490171, 0.017710794, 0.012425433, 0.016540673, 0.013292846, 0.02827922, 0.012862063, 0.0076238643, 0.007088862, 0.0065787565, 0.009183893, 0.011534441]\n",
      "2021-04-26 02:12:24,233 : INFO : PROGRESS: pass 4, at document #8000/29940\n",
      "2021-04-26 02:12:27,655 : INFO : optimized alpha [0.010149915, 0.006284854, 0.016805127, 0.014398482, 0.018075787, 0.012631688, 0.01649091, 0.013569693, 0.026402999, 0.012822179, 0.0076323687, 0.007027602, 0.00648754, 0.009394868, 0.011732381]\n",
      "2021-04-26 02:12:27,831 : INFO : PROGRESS: pass 4, at document #10000/29940\n",
      "2021-04-26 02:12:31,316 : INFO : optimized alpha [0.010308765, 0.006208207, 0.017016977, 0.013927005, 0.018701645, 0.012682003, 0.01637483, 0.013949586, 0.024776481, 0.012744779, 0.007600761, 0.006960422, 0.0064084264, 0.009588499, 0.0119476495]\n",
      "2021-04-26 02:12:31,526 : INFO : PROGRESS: pass 4, at document #12000/29940\n",
      "2021-04-26 02:12:35,545 : INFO : optimized alpha [0.010385842, 0.0061314995, 0.017341493, 0.01349794, 0.018974759, 0.013044613, 0.016363762, 0.014324763, 0.023821624, 0.01280794, 0.007585555, 0.0068917316, 0.006323396, 0.0097446665, 0.012051982]\n",
      "2021-04-26 02:12:35,758 : INFO : PROGRESS: pass 4, at document #14000/29940\n",
      "2021-04-26 02:12:40,421 : INFO : optimized alpha [0.0103354715, 0.006249842, 0.017656066, 0.013104349, 0.019146336, 0.013396084, 0.016482485, 0.014611052, 0.023604495, 0.012992461, 0.007521789, 0.0068415487, 0.006232861, 0.009888696, 0.011980752]\n",
      "2021-04-26 02:12:40,677 : INFO : PROGRESS: pass 4, at document #16000/29940\n",
      "2021-04-26 02:12:45,121 : INFO : optimized alpha [0.010223291, 0.007061296, 0.017190939, 0.012770144, 0.01863259, 0.01331582, 0.016495304, 0.014415556, 0.024057621, 0.012806965, 0.0074289567, 0.0067712953, 0.0061449935, 0.009958478, 0.011758282]\n",
      "2021-04-26 02:12:45,392 : INFO : PROGRESS: pass 4, at document #18000/29940\n",
      "2021-04-26 02:12:49,632 : INFO : optimized alpha [0.0101917125, 0.0070549613, 0.017110145, 0.012492924, 0.018664557, 0.013164036, 0.01666417, 0.014349085, 0.025559178, 0.012710712, 0.0073879585, 0.00670184, 0.006062802, 0.009860466, 0.011700278]\n",
      "2021-04-26 02:12:49,943 : INFO : PROGRESS: pass 4, at document #20000/29940\n",
      "2021-04-26 02:12:53,601 : INFO : optimized alpha [0.0101073105, 0.007042215, 0.016908439, 0.012341208, 0.018580398, 0.012890423, 0.016946355, 0.014181651, 0.027333649, 0.012450407, 0.0073266467, 0.0066699297, 0.005985644, 0.009725808, 0.011544146]\n",
      "2021-04-26 02:12:53,902 : INFO : PROGRESS: pass 4, at document #22000/29940\n",
      "2021-04-26 02:12:57,528 : INFO : optimized alpha [0.010063979, 0.006926612, 0.016815428, 0.01264839, 0.018526468, 0.012531807, 0.01718799, 0.014004909, 0.027650785, 0.012256726, 0.00727214, 0.00661531, 0.00590688, 0.009604861, 0.011386731]\n",
      "2021-04-26 02:12:57,827 : INFO : PROGRESS: pass 4, at document #24000/29940\n",
      "2021-04-26 02:13:01,184 : INFO : optimized alpha [0.010039942, 0.006814501, 0.016556857, 0.012834662, 0.018587666, 0.012172213, 0.017502462, 0.013886598, 0.028172972, 0.012037426, 0.007252957, 0.0065583414, 0.0058502126, 0.009465331, 0.011203519]\n",
      "2021-04-26 02:13:01,471 : INFO : PROGRESS: pass 4, at document #26000/29940\n",
      "2021-04-26 02:13:04,670 : INFO : optimized alpha [0.00995647, 0.006704711, 0.016449232, 0.013290743, 0.01817821, 0.011814879, 0.017830897, 0.013591706, 0.028980417, 0.0118268635, 0.007185865, 0.006504003, 0.005789788, 0.009286033, 0.01103149]\n",
      "2021-04-26 02:13:04,987 : INFO : PROGRESS: pass 4, at document #28000/29940\n",
      "2021-04-26 02:13:07,597 : INFO : optimized alpha [0.009828984, 0.006596603, 0.016071614, 0.013347636, 0.017599521, 0.011478226, 0.017562546, 0.013298488, 0.03151548, 0.011522937, 0.007155556, 0.006494373, 0.005711246, 0.009115014, 0.010800556]\n",
      "2021-04-26 02:13:07,892 : INFO : PROGRESS: pass 4, at document #29940/29940\n",
      "2021-04-26 02:13:10,651 : INFO : optimized alpha [0.009711685, 0.0064955372, 0.015625559, 0.01372995, 0.017194599, 0.011161415, 0.017493919, 0.013053896, 0.032897994, 0.011237045, 0.0071040113, 0.006484257, 0.0056361263, 0.008949967, 0.010632654]\n",
      "2021-04-26 02:13:10,683 : INFO : topic #12 (0.006): 0.006*\"reserve\" + 0.005*\"federal\" + 0.005*\"president\" + 0.005*\"annual\" + 0.005*\"link\" + 0.004*\"key\" + 0.004*\"ecb\" + 0.004*\"trump\" + 0.004*\"poll\" + 0.004*\"consumer\"\n",
      "2021-04-26 02:13:10,685 : INFO : topic #1 (0.006): 0.012*\"wealth\" + 0.008*\"ftse\" + 0.008*\"futures\" + 0.008*\"management\" + 0.007*\"risk\" + 0.007*\"indicators\" + 0.007*\"tech\" + 0.006*\"asian\" + 0.006*\"politics\" + 0.006*\"view\"\n",
      "2021-04-26 02:13:10,686 : INFO : topic #4 (0.017): 0.008*\"state\" + 0.007*\"united\" + 0.007*\"states\" + 0.006*\"auction\" + 0.006*\"government\" + 0.006*\"people\" + 0.006*\"city\" + 0.005*\"tax\" + 0.004*\"two\" + 0.004*\"told\"\n",
      "2021-04-26 02:13:10,687 : INFO : topic #6 (0.017): 0.010*\"dollar\" + 0.007*\"bond\" + 0.007*\"high\" + 0.007*\"yield\" + 0.006*\"investors\" + 0.006*\"yields\" + 0.006*\"last\" + 0.006*\"price\" + 0.006*\"two\" + 0.006*\"end\"\n",
      "2021-04-26 02:13:10,688 : INFO : topic #8 (0.033): 0.006*\"deals\" + 0.006*\"dbt\" + 0.006*\"consumer\" + 0.006*\"emerging\" + 0.006*\"foreign\" + 0.006*\"exchange\" + 0.006*\"editor\" + 0.006*\"front\" + 0.006*\"goods\" + 0.006*\"find\"\n",
      "2021-04-26 02:13:10,690 : INFO : topic diff=0.113683, rho=0.223775\n",
      "2021-04-26 02:13:10,834 : INFO : PROGRESS: pass 5, at document #2000/29940\n",
      "2021-04-26 02:13:15,044 : INFO : optimized alpha [0.009842418, 0.006405986, 0.015990566, 0.01331045, 0.018288795, 0.010886292, 0.017623615, 0.013335533, 0.030484792, 0.011791413, 0.0071701263, 0.0064095017, 0.0055719195, 0.00911841, 0.010830431]\n",
      "2021-04-26 02:13:15,250 : INFO : PROGRESS: pass 5, at document #4000/29940\n",
      "2021-04-26 02:13:19,586 : INFO : optimized alpha [0.01003112, 0.00631827, 0.016964247, 0.012904212, 0.01916417, 0.010637049, 0.017631467, 0.013749635, 0.028347945, 0.012137018, 0.007149505, 0.0063388413, 0.005505175, 0.009257971, 0.010935036]\n",
      "2021-04-26 02:13:21,234 : INFO : PROGRESS: pass 5, at document #6000/29940\n",
      "2021-04-26 02:13:23,761 : INFO : optimized alpha [0.009975728, 0.0062432713, 0.016819237, 0.012540007, 0.01912609, 0.011683498, 0.01732815, 0.013668309, 0.026485458, 0.012051544, 0.007110455, 0.0062753125, 0.005441024, 0.009257936, 0.010868859]\n",
      "2021-04-26 02:13:23,936 : INFO : PROGRESS: pass 5, at document #8000/29940\n",
      "2021-04-26 02:13:27,001 : INFO : optimized alpha [0.009961038, 0.006161587, 0.016833058, 0.012202555, 0.01944954, 0.011890174, 0.0172383, 0.01392791, 0.024856955, 0.01204095, 0.007136616, 0.0062327012, 0.005378801, 0.009476792, 0.011067364]\n",
      "2021-04-26 02:13:27,177 : INFO : PROGRESS: pass 5, at document #10000/29940\n",
      "2021-04-26 02:13:30,461 : INFO : optimized alpha [0.010140018, 0.0060888403, 0.017077247, 0.011877661, 0.020051394, 0.01193878, 0.01707111, 0.014302031, 0.023431718, 0.011992889, 0.007124457, 0.006190134, 0.005323873, 0.00966433, 0.011246136]\n",
      "2021-04-26 02:13:30,683 : INFO : PROGRESS: pass 5, at document #12000/29940\n",
      "2021-04-26 02:13:34,635 : INFO : optimized alpha [0.010229391, 0.0060772365, 0.017429586, 0.011571842, 0.020281093, 0.012275786, 0.01706689, 0.01465272, 0.022450183, 0.012094163, 0.007126138, 0.006149766, 0.005264245, 0.00982332, 0.011343511]\n",
      "2021-04-26 02:13:34,840 : INFO : PROGRESS: pass 5, at document #14000/29940\n",
      "2021-04-26 02:13:38,724 : INFO : optimized alpha [0.010187263, 0.0062760585, 0.01773513, 0.011289316, 0.020401163, 0.01258928, 0.017157137, 0.014927036, 0.021922572, 0.0122818975, 0.007081818, 0.006118275, 0.0052029067, 0.009977106, 0.011281703]\n",
      "2021-04-26 02:13:38,989 : INFO : PROGRESS: pass 5, at document #16000/29940\n",
      "2021-04-26 02:13:42,137 : INFO : optimized alpha [0.01008285, 0.007097329, 0.017263655, 0.011051128, 0.01977512, 0.012511587, 0.017145565, 0.014710309, 0.021448417, 0.012117745, 0.007000455, 0.0060660983, 0.005141453, 0.010045146, 0.011089392]\n",
      "2021-04-26 02:13:42,389 : INFO : PROGRESS: pass 5, at document #18000/29940\n",
      "2021-04-26 02:13:46,785 : INFO : optimized alpha [0.010056544, 0.007315192, 0.017185008, 0.010872329, 0.019751385, 0.012370946, 0.01729039, 0.01463862, 0.022789713, 0.012050846, 0.0069725625, 0.006017983, 0.0050853784, 0.009950999, 0.011025227]\n"
     ]
    },
    {
     "name": "stderr",
     "output_type": "stream",
     "text": [
      "2021-04-26 02:13:47,097 : INFO : PROGRESS: pass 5, at document #20000/29940\n",
      "2021-04-26 02:13:50,842 : INFO : optimized alpha [0.009975827, 0.0074211475, 0.016973434, 0.0107812965, 0.019645555, 0.0121540325, 0.017549964, 0.014477934, 0.024395367, 0.011828801, 0.006928023, 0.0060015186, 0.005032325, 0.009816029, 0.010880303]\n",
      "2021-04-26 02:13:51,130 : INFO : PROGRESS: pass 5, at document #22000/29940\n",
      "2021-04-26 02:13:54,487 : INFO : optimized alpha [0.009940851, 0.0073049697, 0.01685179, 0.011072077, 0.01953753, 0.011839184, 0.017762959, 0.014298563, 0.02470316, 0.011675351, 0.0068907267, 0.0059667774, 0.004979133, 0.009697561, 0.01075228]\n"
     ]
    }
   ],
   "source": [
    "avg_topics_all = get_topics(corpus_all, dictionary_all, corpus_by_year, num_topics=15)"
   ]
  },
  {
   "cell_type": "code",
   "execution_count": null,
   "metadata": {},
   "outputs": [],
   "source": []
  }
 ],
 "metadata": {
  "kernelspec": {
   "display_name": "Python 3",
   "language": "python",
   "name": "python3"
  },
  "language_info": {
   "codemirror_mode": {
    "name": "ipython",
    "version": 3
   },
   "file_extension": ".py",
   "mimetype": "text/x-python",
   "name": "python",
   "nbconvert_exporter": "python",
   "pygments_lexer": "ipython3",
   "version": "3.7.7"
  }
 },
 "nbformat": 4,
 "nbformat_minor": 4
}
