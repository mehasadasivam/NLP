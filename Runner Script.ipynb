{
 "cells": [
  {
   "cell_type": "code",
   "execution_count": 1,
   "metadata": {},
   "outputs": [],
   "source": [
    "from config import *\n",
    "import utilities as utils\n",
    "\n",
    "import importlib"
   ]
  },
  {
   "cell_type": "code",
   "execution_count": 28,
   "metadata": {},
   "outputs": [
    {
     "data": {
      "text/plain": [
       "<module 'utilities' from '/user/ms5941/NLP/utilities.py'>"
      ]
     },
     "execution_count": 28,
     "metadata": {},
     "output_type": "execute_result"
    }
   ],
   "source": [
    "importlib.reload(utils)"
   ]
  },
  {
   "cell_type": "code",
   "execution_count": 15,
   "metadata": {},
   "outputs": [],
   "source": [
    "year_files_dict = utils.get_all_filenames()"
   ]
  },
  {
   "cell_type": "code",
   "execution_count": null,
   "metadata": {},
   "outputs": [
    {
     "name": "stdout",
     "output_type": "stream",
     "text": [
      "1998 06 42230\n",
      "1998 10 47213\n",
      "1998 12 32983\n",
      "1998 03 44433\n",
      "1998 05 44003\n",
      "1998 02 20642\n",
      "1998 09 38387\n",
      "1998 01 26259\n",
      "1998 11 39156\n"
     ]
    }
   ],
   "source": [
    "# Number of US Only articles\n",
    "\n",
    "US_ONLY = ['N2:US']\n",
    "\n",
    "year_month_article_count = dict()\n",
    "\n",
    "# TEMP FIX: Range should ideally remain 1996 - 2021\n",
    "for year in range(1998, 2021):\n",
    "    year_month_article_count[str(year)] = dict()\n",
    "    for fname in year_files_dict[str(year)]:\n",
    "        month = fname[-11:-9]\n",
    "        data = utils.load_data(fname)\n",
    "        count = utils.filtered_article_count(data, subjects=US_ONLY)\n",
    "        print(year, month, count)\n",
    "        year_month_article_count[str(year)][month] = count\n"
   ]
  },
  {
   "cell_type": "code",
   "execution_count": null,
   "metadata": {},
   "outputs": [],
   "source": [
    "# Next step would be to filter based on words. \n",
    "# But first, we would need to model all of these article-words onto a single tf-idf.\n",
    "# Find the most similar words to 'inflation', 'growth', 'volatility'\n",
    "# Then do the next stage of filtering articles based on the occurence of these words in the articles."
   ]
  }
 ],
 "metadata": {
  "kernelspec": {
   "display_name": "Python 3",
   "language": "python",
   "name": "python3"
  },
  "language_info": {
   "codemirror_mode": {
    "name": "ipython",
    "version": 3
   },
   "file_extension": ".py",
   "mimetype": "text/x-python",
   "name": "python",
   "nbconvert_exporter": "python",
   "pygments_lexer": "ipython3",
   "version": "3.7.7"
  }
 },
 "nbformat": 4,
 "nbformat_minor": 4
}
