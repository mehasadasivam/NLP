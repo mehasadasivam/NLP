{
 "cells": [
  {
   "cell_type": "code",
   "execution_count": 1,
   "metadata": {},
   "outputs": [],
   "source": [
    "from config import *\n",
    "import utilities as utils\n",
    "\n",
    "import importlib"
   ]
  },
  {
   "cell_type": "code",
   "execution_count": 115,
   "metadata": {},
   "outputs": [
    {
     "data": {
      "text/plain": [
       "<module 'utilities' from '/user/ms5941/NLP/utilities.py'>"
      ]
     },
     "execution_count": 115,
     "metadata": {},
     "output_type": "execute_result"
    }
   ],
   "source": [
    "importlib.reload(utils)"
   ]
  },
  {
   "cell_type": "code",
   "execution_count": 15,
   "metadata": {},
   "outputs": [],
   "source": [
    "year_files_dict = utils.get_all_filenames()"
   ]
  },
  {
   "cell_type": "code",
   "execution_count": null,
   "metadata": {},
   "outputs": [
    {
     "name": "stdout",
     "output_type": "stream",
     "text": [
      "2018 11 105019\n",
      "/data/ThomsonReuters_NewsArchive/2018/News.RTRS.201806.0214.txt too big. Handle differently and not through conventional json loading.\n",
      "2018 06 81509\n",
      "/data/ThomsonReuters_NewsArchive/2018/News.RTRS.201803.0214.txt too big. Handle differently and not through conventional json loading.\n",
      "2018 03 91555\n",
      "/data/ThomsonReuters_NewsArchive/2018/News.RTRS.201804.0214.txt too big. Handle differently and not through conventional json loading.\n",
      "2018 04 94944\n",
      "/data/ThomsonReuters_NewsArchive/2018/News.RTRS.201809.0214.txt too big. Handle differently and not through conventional json loading.\n",
      "2018 09 78999\n",
      "/data/ThomsonReuters_NewsArchive/2018/News.RTRS.201812.0214.txt too big. Handle differently and not through conventional json loading.\n",
      "2018 12 74686\n",
      "/data/ThomsonReuters_NewsArchive/2018/News.RTRS.201801.0214.txt too big. Handle differently and not through conventional json loading.\n",
      "2018 01 90490\n",
      "/data/ThomsonReuters_NewsArchive/2018/News.RTRS.201807.0214.txt too big. Handle differently and not through conventional json loading.\n"
     ]
    }
   ],
   "source": [
    "# Number of US Only articles\n",
    "\n",
    "US_ONLY = ['N2:US']\n",
    "\n",
    "year_month_article_count = dict()\n",
    "\n",
    "# FIX: Range should ideally remain 1996 - 2021\n",
    "for year in range(2018, 2021):\n",
    "    year_month_article_count[str(year)] = dict()\n",
    "    for fname in year_files_dict[str(year)]:\n",
    "        month = fname[-11:-9]\n",
    "        data = utils.load_data(fname)\n",
    "        count = utils.filtered_article_count(data, subjects=US_ONLY)\n",
    "        print(year, month, count)\n",
    "        year_month_article_count[str(year)][month] = count\n"
   ]
  },
  {
   "cell_type": "code",
   "execution_count": 64,
   "metadata": {},
   "outputs": [],
   "source": [
    "import matplotlib.pyplot as plt"
   ]
  },
  {
   "cell_type": "code",
   "execution_count": 37,
   "metadata": {},
   "outputs": [],
   "source": [
    "import pandas as pd"
   ]
  },
  {
   "cell_type": "code",
   "execution_count": null,
   "metadata": {},
   "outputs": [],
   "source": [
    "df = pd.DataFrame.from_dict({year+month: year_month_article_count[year][month] for year in year_month_article_count for month in year_month_article_count[year]}, orient='index')"
   ]
  },
  {
   "cell_type": "code",
   "execution_count": null,
   "metadata": {},
   "outputs": [],
   "source": [
    "df.index = pd.to_datetime(df.index, format='%Y%m')"
   ]
  },
  {
   "cell_type": "code",
   "execution_count": null,
   "metadata": {},
   "outputs": [],
   "source": [
    "df.sort_index(inplace=True)\n",
    "df.rename(columns={0: 'Count'}, inplace=True)"
   ]
  },
  {
   "cell_type": "code",
   "execution_count": null,
   "metadata": {},
   "outputs": [],
   "source": [
    "df['date'] = df.index\n",
    "\n",
    "df1 = df.groupby(df['date'].dt.to_period('M')).sum()\n",
    "df1 = df1.resample('M').asfreq().fillna(0)"
   ]
  },
  {
   "cell_type": "code",
   "execution_count": null,
   "metadata": {},
   "outputs": [],
   "source": [
    "df1.iloc[:-180].plot(kind='bar', figsize=(20,5))\n",
    "df1.iloc[-180:-90].plot(kind='bar', figsize=(20,5))\n",
    "df1.iloc[-90:].plot(kind='bar', figsize=(20,5))"
   ]
  },
  {
   "cell_type": "code",
   "execution_count": null,
   "metadata": {},
   "outputs": [],
   "source": [
    "df.Count.sum()"
   ]
  },
  {
   "cell_type": "code",
   "execution_count": null,
   "metadata": {},
   "outputs": [],
   "source": [
    "# Next step would be to filter based on words. \n",
    "# But first, we would need to model all of these article-words onto a single tf-idf.\n",
    "# Find the most similar words to 'inflation', 'growth', 'volatility'\n",
    "# Then do the next stage of filtering articles based on the occurence of these words in the articles."
   ]
  }
 ],
 "metadata": {
  "kernelspec": {
   "display_name": "Python 3",
   "language": "python",
   "name": "python3"
  },
  "language_info": {
   "codemirror_mode": {
    "name": "ipython",
    "version": 3
   },
   "file_extension": ".py",
   "mimetype": "text/x-python",
   "name": "python",
   "nbconvert_exporter": "python",
   "pygments_lexer": "ipython3",
   "version": "3.7.7"
  }
 },
 "nbformat": 4,
 "nbformat_minor": 4
}
