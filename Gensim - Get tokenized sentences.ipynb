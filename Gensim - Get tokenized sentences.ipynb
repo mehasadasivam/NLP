{
 "cells": [
  {
   "cell_type": "code",
   "execution_count": 5,
   "metadata": {},
   "outputs": [],
   "source": [
    "from config import *\n",
    "import utilities as utils\n",
    "\n",
    "import importlib\n",
    "\n",
    "# importlib.reload(utils)\n",
    "\n",
    "year_files_dict = utils.get_all_filenames()"
   ]
  },
  {
   "cell_type": "code",
   "execution_count": 6,
   "metadata": {},
   "outputs": [],
   "source": [
    "import gensim\n",
    "import nltk\n",
    "import pandas as pd\n",
    "import re\n",
    "import itertools"
   ]
  },
  {
   "cell_type": "code",
   "execution_count": 7,
   "metadata": {},
   "outputs": [],
   "source": [
    "stopwords_list = nltk.corpus.stopwords.words('english')"
   ]
  },
  {
   "cell_type": "code",
   "execution_count": 8,
   "metadata": {},
   "outputs": [],
   "source": [
    "import json"
   ]
  },
  {
   "cell_type": "markdown",
   "metadata": {},
   "source": [
    "### Get all tokenized sentences"
   ]
  },
  {
   "cell_type": "code",
   "execution_count": 12,
   "metadata": {},
   "outputs": [
    {
     "name": "stdout",
     "output_type": "stream",
     "text": [
      "/data/ThomsonReuters_NewsArchive/2003/News.RTRS.200301.0214.txt Done! Article Count: 33209 Storing in a json now\n",
      "/data/ThomsonReuters_NewsArchive/2003/News.RTRS.200308.0214.txt too big. Handling line by line and not through conventional json loading.\n",
      "/data/ThomsonReuters_NewsArchive/2003/News.RTRS.200308.0214.txt Done! Article Count: 35513 Storing in a json now\n",
      "/data/ThomsonReuters_NewsArchive/2003/News.RTRS.200312.0214.txt too big. Handling line by line and not through conventional json loading.\n"
     ]
    },
    {
     "ename": "MemoryError",
     "evalue": "",
     "output_type": "error",
     "traceback": [
      "\u001b[0;31m---------------------------------------------------------------------------\u001b[0m",
      "\u001b[0;31mMemoryError\u001b[0m                               Traceback (most recent call last)",
      "\u001b[0;32m<ipython-input-12-386f0f4765e4>\u001b[0m in \u001b[0;36m<module>\u001b[0;34m\u001b[0m\n\u001b[1;32m     29\u001b[0m             \u001b[0;32mfor\u001b[0m \u001b[0mword\u001b[0m \u001b[0;32min\u001b[0m \u001b[0msent_words\u001b[0m\u001b[0;34m:\u001b[0m\u001b[0;34m\u001b[0m\u001b[0;34m\u001b[0m\u001b[0m\n\u001b[1;32m     30\u001b[0m                 \u001b[0mdoc_words\u001b[0m\u001b[0;34m.\u001b[0m\u001b[0mappend\u001b[0m\u001b[0;34m(\u001b[0m\u001b[0mword\u001b[0m\u001b[0;34m)\u001b[0m\u001b[0;34m\u001b[0m\u001b[0;34m\u001b[0m\u001b[0m\n\u001b[0;32m---> 31\u001b[0;31m                 \u001b[0mall_words\u001b[0m\u001b[0;34m.\u001b[0m\u001b[0mappend\u001b[0m\u001b[0;34m(\u001b[0m\u001b[0mword\u001b[0m\u001b[0;34m)\u001b[0m\u001b[0;34m\u001b[0m\u001b[0;34m\u001b[0m\u001b[0m\n\u001b[0m\u001b[1;32m     32\u001b[0m                 \u001b[0mtokenized_sent\u001b[0m\u001b[0;34m.\u001b[0m\u001b[0mappend\u001b[0m\u001b[0;34m(\u001b[0m\u001b[0mword\u001b[0m\u001b[0;34m)\u001b[0m\u001b[0;34m\u001b[0m\u001b[0;34m\u001b[0m\u001b[0m\n\u001b[1;32m     33\u001b[0m             \u001b[0mtokenized_sentences\u001b[0m\u001b[0;34m.\u001b[0m\u001b[0mappend\u001b[0m\u001b[0;34m(\u001b[0m\u001b[0mtokenized_sent\u001b[0m\u001b[0;34m)\u001b[0m\u001b[0;34m\u001b[0m\u001b[0;34m\u001b[0m\u001b[0m\n",
      "\u001b[0;31mMemoryError\u001b[0m: "
     ]
    }
   ],
   "source": [
    "all_words = list()\n",
    "tokenized_doc = dict()\n",
    "\n",
    "for fname in itertools.chain.from_iterable(year_files_dict.values()):\n",
    "    tokenized_sentences = list()\n",
    "    data = utils.load_data(fname)\n",
    "    count = 0\n",
    "    for art in data['Items']:\n",
    "        text = ''\n",
    "        if art['data']['language'] == 'en':\n",
    "            if any(subject in art['data']['subjects'] for subject in SUBJECTS):\n",
    "                text = art['data']['body']\n",
    "\n",
    "        if not text:\n",
    "            continue\n",
    "        count += 1\n",
    "\n",
    "        text = nltk.sent_tokenize(text)\n",
    "        text = [sentence.replace('\\n', ' ') for sentence in text]\n",
    "        doc_words = []\n",
    "        for sentence in text:\n",
    "            tokenized_sent = list()\n",
    "            # Only keeping alphabets and replacing everything else with spaces\n",
    "            sentence = re.sub(r'[^A-Za-z]+', ' ', sentence)\n",
    "            sentence = sentence.lower()\n",
    "            sent_words = nltk.word_tokenize(sentence)\n",
    "            sent_words = [word for word in sent_words if ((len(word) > 1) and (len(word) < 20))]\n",
    "            sent_words = [word for word in sent_words if word not in stopwords_list]\n",
    "            for word in sent_words:\n",
    "                doc_words.append(word)\n",
    "                all_words.append(word)\n",
    "                tokenized_sent.append(word)\n",
    "            tokenized_sentences.append(tokenized_sent)\n",
    "\n",
    "        tokenized_doc[art['data']['id']] = doc_words\n",
    "    print(fname, 'Done! Article Count:', count, 'Storing in a json now')\n",
    "    with open(TEMP_PATH + '/%s.txt' % fname[-15:-9], 'w') as outfile:\n",
    "        json.dump(tokenized_sentences, outfile)\n",
    "    del data"
   ]
  },
  {
   "cell_type": "code",
   "execution_count": 11,
   "metadata": {},
   "outputs": [],
   "source": [
    "del data"
   ]
  },
  {
   "cell_type": "markdown",
   "metadata": {},
   "source": [
    "### Gensim Model - To get the similar words to our three themes"
   ]
  },
  {
   "cell_type": "code",
   "execution_count": null,
   "metadata": {},
   "outputs": [],
   "source": [
    "%env PYTHONHASHSEED = 1\n",
    "model = Word2Vec(tokenized_sentences, size=100, seed=1, window=4, min_count=2, iter=20)\n",
    "model.save(\"all_reuters_news_articles.w2v\")"
   ]
  }
 ],
 "metadata": {
  "kernelspec": {
   "display_name": "Python 3",
   "language": "python",
   "name": "python3"
  },
  "language_info": {
   "codemirror_mode": {
    "name": "ipython",
    "version": 3
   },
   "file_extension": ".py",
   "mimetype": "text/x-python",
   "name": "python",
   "nbconvert_exporter": "python",
   "pygments_lexer": "ipython3",
   "version": "3.7.7"
  }
 },
 "nbformat": 4,
 "nbformat_minor": 4
}
