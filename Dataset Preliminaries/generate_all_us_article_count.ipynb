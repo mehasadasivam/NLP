{
 "cells": [
  {
   "cell_type": "code",
   "execution_count": 1,
   "metadata": {},
   "outputs": [],
   "source": [
    "import sys\n",
    "\n",
    "sys.path.append('/user/ms5941/NLP')\n",
    "\n",
    "from config import *\n",
    "import utilities as utils\n",
    "import importlib\n",
    "\n",
    "year_files_dict = utils.get_all_filenames()"
   ]
  },
  {
   "cell_type": "code",
   "execution_count": null,
   "metadata": {},
   "outputs": [],
   "source": [
    "# Number of US Only articles, English only\n",
    "\n",
    "year_month_article_count = dict()\n",
    "\n",
    "for year in range(1996, 2021):\n",
    "    year_month_article_count[str(year)] = dict()\n",
    "    for fname in year_files_dict[str(year)]:\n",
    "        month = fname[-11:-9]\n",
    "        if month in year_month_article_count[str(year)]:\n",
    "            continue\n",
    "        data = utils.load_data(fname)\n",
    "        count = utils.filtered_article_count(data, subjects=[US_CODE])\n",
    "        print(year, month, count)\n",
    "        year_month_article_count[str(year)][month] = count"
   ]
  },
  {
   "cell_type": "code",
   "execution_count": null,
   "metadata": {},
   "outputs": [],
   "source": [
    "df = pd.DataFrame.from_dict({year+month: year_month_article_count[year][month] \n",
    "                             for year in year_month_article_count \n",
    "                             for month in year_month_article_count[year]}, orient='index')\n",
    "\n",
    "df.index = pd.to_datetime(df.index, format='%Y%m')\n",
    "\n",
    "df.sort_index(inplace=True)\n",
    "df.rename(columns={0: 'Count'}, inplace=True)\n",
    "df['date'] = df.index\n"
   ]
  },
  {
   "cell_type": "code",
   "execution_count": null,
   "metadata": {},
   "outputs": [],
   "source": [
    "df.reset_index(drop=True).to_csv(os.path.join(TEMP_PATH, 'All_US_Article_Count.csv'))"
   ]
  },
  {
   "cell_type": "code",
   "execution_count": null,
   "metadata": {},
   "outputs": [],
   "source": []
  }
 ],
 "metadata": {
  "kernelspec": {
   "display_name": "Python 3",
   "language": "python",
   "name": "python3"
  },
  "language_info": {
   "codemirror_mode": {
    "name": "ipython",
    "version": 3
   },
   "file_extension": ".py",
   "mimetype": "text/x-python",
   "name": "python",
   "nbconvert_exporter": "python",
   "pygments_lexer": "ipython3",
   "version": "3.7.7"
  }
 },
 "nbformat": 4,
 "nbformat_minor": 4
}
