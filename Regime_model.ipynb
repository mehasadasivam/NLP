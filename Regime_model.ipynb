{
 "cells": [
  {
   "cell_type": "code",
   "execution_count": 1,
   "metadata": {},
   "outputs": [
    {
     "name": "stderr",
     "output_type": "stream",
     "text": [
      "/user/ms5941/.local/lib/python3.7/site-packages/gensim/similarities/__init__.py:15: UserWarning: The gensim.similarities.levenshtein submodule is disabled, because the optional Levenshtein package <https://pypi.org/project/python-Levenshtein/> is unavailable. Install Levenhstein (e.g. `pip install python-Levenshtein`) to suppress this warning.\n",
      "  warnings.warn(msg)\n"
     ]
    }
   ],
   "source": [
    "import pandas as pd\n",
    "import numpy as np\n",
    "import matplotlib.pyplot as plt\n",
    "from utilities import *"
   ]
  },
  {
   "cell_type": "code",
   "execution_count": 2,
   "metadata": {},
   "outputs": [],
   "source": [
    "THEME = 'Inflation'"
   ]
  },
  {
   "cell_type": "code",
   "execution_count": 3,
   "metadata": {},
   "outputs": [],
   "source": [
    "#pd.read_csv('LDA_Outputs/%s_Topics_15.csv' % THEME, index_col=0)"
   ]
  },
  {
   "cell_type": "code",
   "execution_count": 4,
   "metadata": {},
   "outputs": [],
   "source": [
    "inflation_prob = pd.read_csv('LDA_Outputs/%s_Average_Topic_Probabilities_Per_Year.csv' % THEME, index_col=0)"
   ]
  },
  {
   "cell_type": "code",
   "execution_count": 5,
   "metadata": {},
   "outputs": [],
   "source": [
    "inflation_state = inflation_prob.loc[3].values #+ inflation_prob.loc[13].values"
   ]
  },
  {
   "cell_type": "code",
   "execution_count": 6,
   "metadata": {},
   "outputs": [
    {
     "name": "stderr",
     "output_type": "stream",
     "text": [
      "/user/ms5941/NLP/utilities.py:157: RuntimeWarning: invalid value encountered in true_divide\n",
      "  std_dev = np.sqrt((np.cumsum(np.power(variable,2)) - np.power(mean,2)*np.arange(1, 26))/np.arange(0, 25))\n"
     ]
    }
   ],
   "source": [
    "stand_inflation_state = standarized(inflation_state)[1:]"
   ]
  },
  {
   "cell_type": "code",
   "execution_count": 7,
   "metadata": {},
   "outputs": [],
   "source": [
    "THEME = 'GDP'"
   ]
  },
  {
   "cell_type": "code",
   "execution_count": 8,
   "metadata": {},
   "outputs": [],
   "source": [
    "gdp_prob = pd.read_csv('LDA_Outputs/%s_Average_Topic_Probabilities_Per_Year.csv' % THEME, index_col=0)"
   ]
  },
  {
   "cell_type": "code",
   "execution_count": 9,
   "metadata": {},
   "outputs": [],
   "source": [
    "gdp_state = gdp_prob.loc[2].values"
   ]
  },
  {
   "cell_type": "code",
   "execution_count": 10,
   "metadata": {},
   "outputs": [],
   "source": [
    "stand_gdp_state = standarized(gdp_state)[1:]"
   ]
  },
  {
   "cell_type": "code",
   "execution_count": 11,
   "metadata": {},
   "outputs": [],
   "source": [
    "THEME = 'Volatility'"
   ]
  },
  {
   "cell_type": "code",
   "execution_count": 12,
   "metadata": {},
   "outputs": [],
   "source": [
    "vol_prob = pd.read_csv('LDA_Outputs/%s_Average_Topic_Probabilities_Per_Year.csv' % THEME, index_col=0)"
   ]
  },
  {
   "cell_type": "code",
   "execution_count": 13,
   "metadata": {},
   "outputs": [],
   "source": [
    "vol_state = vol_prob.loc[2].values"
   ]
  },
  {
   "cell_type": "code",
   "execution_count": 14,
   "metadata": {},
   "outputs": [],
   "source": [
    "stand_vol_state = standarized(vol_state)[1:]"
   ]
  },
  {
   "cell_type": "markdown",
   "metadata": {},
   "source": [
    "Now we need to calculate the distance measure between the state vectors"
   ]
  },
  {
   "cell_type": "code",
   "execution_count": 15,
   "metadata": {},
   "outputs": [],
   "source": [
    "distance_inputs = [stand_inflation_state,stand_gdp_state,stand_vol_state]"
   ]
  },
  {
   "cell_type": "code",
   "execution_count": 16,
   "metadata": {},
   "outputs": [
    {
     "data": {
      "text/plain": [
       "[array([-0.70710678,  1.02386288,  0.21726504,  1.44952722,  1.42592581,\n",
       "         0.94678583, -1.77378067, -0.77152286, -0.93256665, -0.58147858,\n",
       "        -0.63363869, -0.03023428, -0.88612463, -1.61550193, -0.48017745,\n",
       "        -1.58605488, -0.77577712, -1.21798518, -0.82317106, -1.03067013,\n",
       "        -1.09564076, -0.97231708, -1.18525382, -1.30810615]),\n",
       " array([-0.70710678, -0.49561236,  1.26152078, -0.06936659, -0.61560784,\n",
       "         0.11531469, -1.16238975,  0.52061064,  1.98866129,  0.58811518,\n",
       "        -0.91061268, -1.19720684, -1.26815436, -0.79628097, -0.47917327,\n",
       "         2.85562116, -0.55478907, -0.78567974, -1.04831441, -1.0827211 ,\n",
       "        -0.99841924, -1.03432078, -0.92099306, -0.17710198]),\n",
       " array([ 0.70710678, -0.10550639, -0.03656167,  0.18894786, -1.13550368,\n",
       "        -0.77453009, -1.45437322, -1.04131157, -0.37110331, -0.27331337,\n",
       "         0.52573727,  0.83292195,  1.38671747,  1.01711632,  1.40196994,\n",
       "         1.28409435,  2.40546815,  1.24034422,  1.18200867,  2.98140006,\n",
       "         3.3791442 ,  1.75189206,  1.59340491,  0.77138742])]"
      ]
     },
     "execution_count": 16,
     "metadata": {},
     "output_type": "execute_result"
    }
   ],
   "source": [
    "distance_inputs"
   ]
  },
  {
   "cell_type": "code",
   "execution_count": 17,
   "metadata": {},
   "outputs": [],
   "source": [
    "distance = distance(distance_inputs,23)"
   ]
  },
  {
   "cell_type": "code",
   "execution_count": 18,
   "metadata": {},
   "outputs": [
    {
     "data": {
      "text/plain": [
       "array([0.80388888, 2.51166701, 2.24703681, 2.82052912, 3.36206065,\n",
       "       2.74952837, 2.4782363 , 2.01509358, 2.47726573, 1.48490561,\n",
       "       1.02629834, 1.63626309, 1.32177713, 0.73366033, 1.08367306,\n",
       "       3.08828975, 1.75961404, 0.7735691 , 1.07832413, 2.40442771,\n",
       "       2.74227989, 1.3449787 , 1.11542789, 0.        ])"
      ]
     },
     "execution_count": 18,
     "metadata": {},
     "output_type": "execute_result"
    }
   ],
   "source": [
    "distance"
   ]
  },
  {
   "cell_type": "code",
   "execution_count": 19,
   "metadata": {},
   "outputs": [],
   "source": [
    "norm_dista = distance/np.max(distance)"
   ]
  },
  {
   "cell_type": "code",
   "execution_count": 20,
   "metadata": {},
   "outputs": [
    {
     "data": {
      "text/plain": [
       "array([0.239106  , 0.74706178, 0.66835106, 0.83892869, 1.        ,\n",
       "       0.81781046, 0.73711826, 0.59936265, 0.73682958, 0.44166533,\n",
       "       0.30525872, 0.48668459, 0.39314494, 0.21821746, 0.32232407,\n",
       "       0.91857051, 0.52337368, 0.23008779, 0.3207331 , 0.71516488,\n",
       "       0.8156545 , 0.40004594, 0.33176912, 0.        ])"
      ]
     },
     "execution_count": 20,
     "metadata": {},
     "output_type": "execute_result"
    }
   ],
   "source": [
    "norm_dista"
   ]
  },
  {
   "cell_type": "code",
   "execution_count": 21,
   "metadata": {},
   "outputs": [],
   "source": [
    "pd.DataFrame(norm_dista).to_csv('normalized_distance.csv')"
   ]
  },
  {
   "cell_type": "code",
   "execution_count": 22,
   "metadata": {},
   "outputs": [],
   "source": [
    "x = np.linspace(0,23,24)"
   ]
  },
  {
   "cell_type": "code",
   "execution_count": 23,
   "metadata": {},
   "outputs": [
    {
     "data": {
      "text/plain": [
       "[<matplotlib.lines.Line2D at 0x14d960b31490>]"
      ]
     },
     "execution_count": 23,
     "metadata": {},
     "output_type": "execute_result"
    },
    {
     "data": {
      "image/png": "[encoded data removed]",
      "text/plain": [
       "<Figure size 432x288 with 1 Axes>"
      ]
     },
     "metadata": {
      "needs_background": "light"
     },
     "output_type": "display_data"
    }
   ],
   "source": [
    "plt.plot(x[:-1],norm_dista[:-1])"
   ]
  },
  {
   "cell_type": "code",
   "execution_count": 24,
   "metadata": {},
   "outputs": [],
   "source": [
    "# Very simple LOWESS regression"
   ]
  },
  {
   "cell_type": "code",
   "execution_count": 25,
   "metadata": {},
   "outputs": [],
   "source": [
    "returns = pd.read_csv('returns.csv')"
   ]
  },
  {
   "cell_type": "code",
   "execution_count": 26,
   "metadata": {},
   "outputs": [],
   "source": [
    "weights = kern(norm_dista[:-1])"
   ]
  },
  {
   "cell_type": "code",
   "execution_count": 27,
   "metadata": {},
   "outputs": [],
   "source": [
    "forecast_spx = np.sum(weights*returns['SPXR'][1:-1].values)/np.sum(weights)"
   ]
  },
  {
   "cell_type": "code",
   "execution_count": 28,
   "metadata": {},
   "outputs": [
    {
     "data": {
      "text/plain": [
       "10.017627003449114"
      ]
     },
     "execution_count": 28,
     "metadata": {},
     "output_type": "execute_result"
    }
   ],
   "source": [
    "forecast_spx*100"
   ]
  },
  {
   "cell_type": "code",
   "execution_count": 29,
   "metadata": {},
   "outputs": [
    {
     "data": {
      "text/plain": [
       "16.258922000000002"
      ]
     },
     "execution_count": 29,
     "metadata": {},
     "output_type": "execute_result"
    }
   ],
   "source": [
    "returns['SPXR'][24]*100"
   ]
  },
  {
   "cell_type": "code",
   "execution_count": 30,
   "metadata": {},
   "outputs": [],
   "source": [
    "forecast_dxy = np.sum(weights*returns['DXYR'][1:-1].values)/np.sum(weights)"
   ]
  },
  {
   "cell_type": "code",
   "execution_count": 31,
   "metadata": {},
   "outputs": [
    {
     "data": {
      "text/plain": [
       "1.9659229720659663"
      ]
     },
     "execution_count": 31,
     "metadata": {},
     "output_type": "execute_result"
    }
   ],
   "source": [
    "forecast_dxy*100"
   ]
  },
  {
   "cell_type": "code",
   "execution_count": 32,
   "metadata": {},
   "outputs": [
    {
     "data": {
      "text/plain": [
       "-6.6937099"
      ]
     },
     "execution_count": 32,
     "metadata": {},
     "output_type": "execute_result"
    }
   ],
   "source": [
    "returns['DXYR'][24]*100"
   ]
  },
  {
   "cell_type": "code",
   "execution_count": 33,
   "metadata": {},
   "outputs": [],
   "source": [
    "forecast_rates = np.sum(weights*returns['10YNR'][1:-1].values)/np.sum(weights)"
   ]
  },
  {
   "cell_type": "code",
   "execution_count": 34,
   "metadata": {},
   "outputs": [
    {
     "data": {
      "text/plain": [
       "-1.9655200602042"
      ]
     },
     "execution_count": 34,
     "metadata": {},
     "output_type": "execute_result"
    }
   ],
   "source": [
    "forecast_rates*100"
   ]
  },
  {
   "cell_type": "code",
   "execution_count": 35,
   "metadata": {},
   "outputs": [
    {
     "data": {
      "text/plain": [
       "-52.3754889"
      ]
     },
     "execution_count": 35,
     "metadata": {},
     "output_type": "execute_result"
    }
   ],
   "source": [
    "returns['10YNR'][24]*100"
   ]
  }
 ],
 "metadata": {
  "kernelspec": {
   "display_name": "Python 3",
   "language": "python",
   "name": "python3"
  },
  "language_info": {
   "codemirror_mode": {
    "name": "ipython",
    "version": 3
   },
   "file_extension": ".py",
   "mimetype": "text/x-python",
   "name": "python",
   "nbconvert_exporter": "python",
   "pygments_lexer": "ipython3",
   "version": "3.7.7"
  }
 },
 "nbformat": 4,
 "nbformat_minor": 4
}
